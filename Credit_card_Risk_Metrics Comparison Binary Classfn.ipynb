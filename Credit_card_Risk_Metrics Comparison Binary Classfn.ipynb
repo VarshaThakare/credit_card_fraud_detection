{
 "cells": [
  {
   "cell_type": "markdown",
   "id": "e0ab39e0",
   "metadata": {
    "tags": []
   },
   "source": [
    "# Imports"
   ]
  },
  {
   "cell_type": "code",
   "execution_count": 1,
   "id": "ea1fe3be",
   "metadata": {
    "tags": []
   },
   "outputs": [],
   "source": [
    "#pip install klib"
   ]
  },
  {
   "cell_type": "code",
   "execution_count": 2,
   "id": "e8112951",
   "metadata": {
    "ExecuteTime": {
     "end_time": "2022-05-10T20:09:59.808552Z",
     "start_time": "2022-05-10T20:09:59.789591Z"
    }
   },
   "outputs": [],
   "source": [
    "import pandas as pd\n",
    "from matplotlib import pyplot as plt\n",
    "import seaborn as sns\n",
    "import numpy as np\n",
    "import klib\n",
    "from sklearn.metrics import accuracy_score, classification_report, confusion_matrix, f1_score, fbeta_score, precision_recall_curve, precision_score, recall_score, roc_auc_score, roc_curve, log_loss,ConfusionMatrixDisplay,plot_precision_recall_curve\n",
    "from sklearn.preprocessing import StandardScaler\n",
    "from sklearn.model_selection import train_test_split\n",
    "from sklearn.ensemble import RandomForestClassifier\n",
    "from sklearn.svm import SVC\n",
    "from sklearn.linear_model import LogisticRegression\n",
    "from tqdm import tqdm\n",
    "from imblearn.under_sampling import RandomUnderSampler\n",
    "from imblearn.over_sampling import SMOTE "
   ]
  },
  {
   "cell_type": "markdown",
   "id": "8c9d90c2",
   "metadata": {},
   "source": [
    "# Reading Files"
   ]
  },
  {
   "cell_type": "code",
   "execution_count": 3,
   "id": "f20b39e8",
   "metadata": {
    "ExecuteTime": {
     "end_time": "2022-05-10T20:10:38.297131Z",
     "start_time": "2022-05-10T20:10:31.929995Z"
    }
   },
   "outputs": [
    {
     "data": {
      "text/html": [
       "<div>\n",
       "<style scoped>\n",
       "    .dataframe tbody tr th:only-of-type {\n",
       "        vertical-align: middle;\n",
       "    }\n",
       "\n",
       "    .dataframe tbody tr th {\n",
       "        vertical-align: top;\n",
       "    }\n",
       "\n",
       "    .dataframe thead th {\n",
       "        text-align: right;\n",
       "    }\n",
       "</style>\n",
       "<table border=\"1\" class=\"dataframe\">\n",
       "  <thead>\n",
       "    <tr style=\"text-align: right;\">\n",
       "      <th></th>\n",
       "      <th>Time</th>\n",
       "      <th>V1</th>\n",
       "      <th>V2</th>\n",
       "      <th>V3</th>\n",
       "      <th>V4</th>\n",
       "      <th>V5</th>\n",
       "      <th>V6</th>\n",
       "      <th>V7</th>\n",
       "      <th>V8</th>\n",
       "      <th>V9</th>\n",
       "      <th>...</th>\n",
       "      <th>V21</th>\n",
       "      <th>V22</th>\n",
       "      <th>V23</th>\n",
       "      <th>V24</th>\n",
       "      <th>V25</th>\n",
       "      <th>V26</th>\n",
       "      <th>V27</th>\n",
       "      <th>V28</th>\n",
       "      <th>Amount</th>\n",
       "      <th>Class</th>\n",
       "    </tr>\n",
       "  </thead>\n",
       "  <tbody>\n",
       "    <tr>\n",
       "      <th>0</th>\n",
       "      <td>0.0</td>\n",
       "      <td>-1.359807</td>\n",
       "      <td>-0.072781</td>\n",
       "      <td>2.536347</td>\n",
       "      <td>1.378155</td>\n",
       "      <td>-0.338321</td>\n",
       "      <td>0.462388</td>\n",
       "      <td>0.239599</td>\n",
       "      <td>0.098698</td>\n",
       "      <td>0.363787</td>\n",
       "      <td>...</td>\n",
       "      <td>-0.018307</td>\n",
       "      <td>0.277838</td>\n",
       "      <td>-0.110474</td>\n",
       "      <td>0.066928</td>\n",
       "      <td>0.128539</td>\n",
       "      <td>-0.189115</td>\n",
       "      <td>0.133558</td>\n",
       "      <td>-0.021053</td>\n",
       "      <td>149.62</td>\n",
       "      <td>0</td>\n",
       "    </tr>\n",
       "    <tr>\n",
       "      <th>1</th>\n",
       "      <td>0.0</td>\n",
       "      <td>1.191857</td>\n",
       "      <td>0.266151</td>\n",
       "      <td>0.166480</td>\n",
       "      <td>0.448154</td>\n",
       "      <td>0.060018</td>\n",
       "      <td>-0.082361</td>\n",
       "      <td>-0.078803</td>\n",
       "      <td>0.085102</td>\n",
       "      <td>-0.255425</td>\n",
       "      <td>...</td>\n",
       "      <td>-0.225775</td>\n",
       "      <td>-0.638672</td>\n",
       "      <td>0.101288</td>\n",
       "      <td>-0.339846</td>\n",
       "      <td>0.167170</td>\n",
       "      <td>0.125895</td>\n",
       "      <td>-0.008983</td>\n",
       "      <td>0.014724</td>\n",
       "      <td>2.69</td>\n",
       "      <td>0</td>\n",
       "    </tr>\n",
       "    <tr>\n",
       "      <th>2</th>\n",
       "      <td>1.0</td>\n",
       "      <td>-1.358354</td>\n",
       "      <td>-1.340163</td>\n",
       "      <td>1.773209</td>\n",
       "      <td>0.379780</td>\n",
       "      <td>-0.503198</td>\n",
       "      <td>1.800499</td>\n",
       "      <td>0.791461</td>\n",
       "      <td>0.247676</td>\n",
       "      <td>-1.514654</td>\n",
       "      <td>...</td>\n",
       "      <td>0.247998</td>\n",
       "      <td>0.771679</td>\n",
       "      <td>0.909412</td>\n",
       "      <td>-0.689281</td>\n",
       "      <td>-0.327642</td>\n",
       "      <td>-0.139097</td>\n",
       "      <td>-0.055353</td>\n",
       "      <td>-0.059752</td>\n",
       "      <td>378.66</td>\n",
       "      <td>0</td>\n",
       "    </tr>\n",
       "    <tr>\n",
       "      <th>3</th>\n",
       "      <td>1.0</td>\n",
       "      <td>-0.966272</td>\n",
       "      <td>-0.185226</td>\n",
       "      <td>1.792993</td>\n",
       "      <td>-0.863291</td>\n",
       "      <td>-0.010309</td>\n",
       "      <td>1.247203</td>\n",
       "      <td>0.237609</td>\n",
       "      <td>0.377436</td>\n",
       "      <td>-1.387024</td>\n",
       "      <td>...</td>\n",
       "      <td>-0.108300</td>\n",
       "      <td>0.005274</td>\n",
       "      <td>-0.190321</td>\n",
       "      <td>-1.175575</td>\n",
       "      <td>0.647376</td>\n",
       "      <td>-0.221929</td>\n",
       "      <td>0.062723</td>\n",
       "      <td>0.061458</td>\n",
       "      <td>123.50</td>\n",
       "      <td>0</td>\n",
       "    </tr>\n",
       "    <tr>\n",
       "      <th>4</th>\n",
       "      <td>2.0</td>\n",
       "      <td>-1.158233</td>\n",
       "      <td>0.877737</td>\n",
       "      <td>1.548718</td>\n",
       "      <td>0.403034</td>\n",
       "      <td>-0.407193</td>\n",
       "      <td>0.095921</td>\n",
       "      <td>0.592941</td>\n",
       "      <td>-0.270533</td>\n",
       "      <td>0.817739</td>\n",
       "      <td>...</td>\n",
       "      <td>-0.009431</td>\n",
       "      <td>0.798278</td>\n",
       "      <td>-0.137458</td>\n",
       "      <td>0.141267</td>\n",
       "      <td>-0.206010</td>\n",
       "      <td>0.502292</td>\n",
       "      <td>0.219422</td>\n",
       "      <td>0.215153</td>\n",
       "      <td>69.99</td>\n",
       "      <td>0</td>\n",
       "    </tr>\n",
       "    <tr>\n",
       "      <th>...</th>\n",
       "      <td>...</td>\n",
       "      <td>...</td>\n",
       "      <td>...</td>\n",
       "      <td>...</td>\n",
       "      <td>...</td>\n",
       "      <td>...</td>\n",
       "      <td>...</td>\n",
       "      <td>...</td>\n",
       "      <td>...</td>\n",
       "      <td>...</td>\n",
       "      <td>...</td>\n",
       "      <td>...</td>\n",
       "      <td>...</td>\n",
       "      <td>...</td>\n",
       "      <td>...</td>\n",
       "      <td>...</td>\n",
       "      <td>...</td>\n",
       "      <td>...</td>\n",
       "      <td>...</td>\n",
       "      <td>...</td>\n",
       "      <td>...</td>\n",
       "    </tr>\n",
       "    <tr>\n",
       "      <th>284802</th>\n",
       "      <td>172786.0</td>\n",
       "      <td>-11.881118</td>\n",
       "      <td>10.071785</td>\n",
       "      <td>-9.834783</td>\n",
       "      <td>-2.066656</td>\n",
       "      <td>-5.364473</td>\n",
       "      <td>-2.606837</td>\n",
       "      <td>-4.918215</td>\n",
       "      <td>7.305334</td>\n",
       "      <td>1.914428</td>\n",
       "      <td>...</td>\n",
       "      <td>0.213454</td>\n",
       "      <td>0.111864</td>\n",
       "      <td>1.014480</td>\n",
       "      <td>-0.509348</td>\n",
       "      <td>1.436807</td>\n",
       "      <td>0.250034</td>\n",
       "      <td>0.943651</td>\n",
       "      <td>0.823731</td>\n",
       "      <td>0.77</td>\n",
       "      <td>0</td>\n",
       "    </tr>\n",
       "    <tr>\n",
       "      <th>284803</th>\n",
       "      <td>172787.0</td>\n",
       "      <td>-0.732789</td>\n",
       "      <td>-0.055080</td>\n",
       "      <td>2.035030</td>\n",
       "      <td>-0.738589</td>\n",
       "      <td>0.868229</td>\n",
       "      <td>1.058415</td>\n",
       "      <td>0.024330</td>\n",
       "      <td>0.294869</td>\n",
       "      <td>0.584800</td>\n",
       "      <td>...</td>\n",
       "      <td>0.214205</td>\n",
       "      <td>0.924384</td>\n",
       "      <td>0.012463</td>\n",
       "      <td>-1.016226</td>\n",
       "      <td>-0.606624</td>\n",
       "      <td>-0.395255</td>\n",
       "      <td>0.068472</td>\n",
       "      <td>-0.053527</td>\n",
       "      <td>24.79</td>\n",
       "      <td>0</td>\n",
       "    </tr>\n",
       "    <tr>\n",
       "      <th>284804</th>\n",
       "      <td>172788.0</td>\n",
       "      <td>1.919565</td>\n",
       "      <td>-0.301254</td>\n",
       "      <td>-3.249640</td>\n",
       "      <td>-0.557828</td>\n",
       "      <td>2.630515</td>\n",
       "      <td>3.031260</td>\n",
       "      <td>-0.296827</td>\n",
       "      <td>0.708417</td>\n",
       "      <td>0.432454</td>\n",
       "      <td>...</td>\n",
       "      <td>0.232045</td>\n",
       "      <td>0.578229</td>\n",
       "      <td>-0.037501</td>\n",
       "      <td>0.640134</td>\n",
       "      <td>0.265745</td>\n",
       "      <td>-0.087371</td>\n",
       "      <td>0.004455</td>\n",
       "      <td>-0.026561</td>\n",
       "      <td>67.88</td>\n",
       "      <td>0</td>\n",
       "    </tr>\n",
       "    <tr>\n",
       "      <th>284805</th>\n",
       "      <td>172788.0</td>\n",
       "      <td>-0.240440</td>\n",
       "      <td>0.530483</td>\n",
       "      <td>0.702510</td>\n",
       "      <td>0.689799</td>\n",
       "      <td>-0.377961</td>\n",
       "      <td>0.623708</td>\n",
       "      <td>-0.686180</td>\n",
       "      <td>0.679145</td>\n",
       "      <td>0.392087</td>\n",
       "      <td>...</td>\n",
       "      <td>0.265245</td>\n",
       "      <td>0.800049</td>\n",
       "      <td>-0.163298</td>\n",
       "      <td>0.123205</td>\n",
       "      <td>-0.569159</td>\n",
       "      <td>0.546668</td>\n",
       "      <td>0.108821</td>\n",
       "      <td>0.104533</td>\n",
       "      <td>10.00</td>\n",
       "      <td>0</td>\n",
       "    </tr>\n",
       "    <tr>\n",
       "      <th>284806</th>\n",
       "      <td>172792.0</td>\n",
       "      <td>-0.533413</td>\n",
       "      <td>-0.189733</td>\n",
       "      <td>0.703337</td>\n",
       "      <td>-0.506271</td>\n",
       "      <td>-0.012546</td>\n",
       "      <td>-0.649617</td>\n",
       "      <td>1.577006</td>\n",
       "      <td>-0.414650</td>\n",
       "      <td>0.486180</td>\n",
       "      <td>...</td>\n",
       "      <td>0.261057</td>\n",
       "      <td>0.643078</td>\n",
       "      <td>0.376777</td>\n",
       "      <td>0.008797</td>\n",
       "      <td>-0.473649</td>\n",
       "      <td>-0.818267</td>\n",
       "      <td>-0.002415</td>\n",
       "      <td>0.013649</td>\n",
       "      <td>217.00</td>\n",
       "      <td>0</td>\n",
       "    </tr>\n",
       "  </tbody>\n",
       "</table>\n",
       "<p>284807 rows × 31 columns</p>\n",
       "</div>"
      ],
      "text/plain": [
       "            Time         V1         V2        V3        V4        V5  \\\n",
       "0            0.0  -1.359807  -0.072781  2.536347  1.378155 -0.338321   \n",
       "1            0.0   1.191857   0.266151  0.166480  0.448154  0.060018   \n",
       "2            1.0  -1.358354  -1.340163  1.773209  0.379780 -0.503198   \n",
       "3            1.0  -0.966272  -0.185226  1.792993 -0.863291 -0.010309   \n",
       "4            2.0  -1.158233   0.877737  1.548718  0.403034 -0.407193   \n",
       "...          ...        ...        ...       ...       ...       ...   \n",
       "284802  172786.0 -11.881118  10.071785 -9.834783 -2.066656 -5.364473   \n",
       "284803  172787.0  -0.732789  -0.055080  2.035030 -0.738589  0.868229   \n",
       "284804  172788.0   1.919565  -0.301254 -3.249640 -0.557828  2.630515   \n",
       "284805  172788.0  -0.240440   0.530483  0.702510  0.689799 -0.377961   \n",
       "284806  172792.0  -0.533413  -0.189733  0.703337 -0.506271 -0.012546   \n",
       "\n",
       "              V6        V7        V8        V9  ...       V21       V22  \\\n",
       "0       0.462388  0.239599  0.098698  0.363787  ... -0.018307  0.277838   \n",
       "1      -0.082361 -0.078803  0.085102 -0.255425  ... -0.225775 -0.638672   \n",
       "2       1.800499  0.791461  0.247676 -1.514654  ...  0.247998  0.771679   \n",
       "3       1.247203  0.237609  0.377436 -1.387024  ... -0.108300  0.005274   \n",
       "4       0.095921  0.592941 -0.270533  0.817739  ... -0.009431  0.798278   \n",
       "...          ...       ...       ...       ...  ...       ...       ...   \n",
       "284802 -2.606837 -4.918215  7.305334  1.914428  ...  0.213454  0.111864   \n",
       "284803  1.058415  0.024330  0.294869  0.584800  ...  0.214205  0.924384   \n",
       "284804  3.031260 -0.296827  0.708417  0.432454  ...  0.232045  0.578229   \n",
       "284805  0.623708 -0.686180  0.679145  0.392087  ...  0.265245  0.800049   \n",
       "284806 -0.649617  1.577006 -0.414650  0.486180  ...  0.261057  0.643078   \n",
       "\n",
       "             V23       V24       V25       V26       V27       V28  Amount  \\\n",
       "0      -0.110474  0.066928  0.128539 -0.189115  0.133558 -0.021053  149.62   \n",
       "1       0.101288 -0.339846  0.167170  0.125895 -0.008983  0.014724    2.69   \n",
       "2       0.909412 -0.689281 -0.327642 -0.139097 -0.055353 -0.059752  378.66   \n",
       "3      -0.190321 -1.175575  0.647376 -0.221929  0.062723  0.061458  123.50   \n",
       "4      -0.137458  0.141267 -0.206010  0.502292  0.219422  0.215153   69.99   \n",
       "...          ...       ...       ...       ...       ...       ...     ...   \n",
       "284802  1.014480 -0.509348  1.436807  0.250034  0.943651  0.823731    0.77   \n",
       "284803  0.012463 -1.016226 -0.606624 -0.395255  0.068472 -0.053527   24.79   \n",
       "284804 -0.037501  0.640134  0.265745 -0.087371  0.004455 -0.026561   67.88   \n",
       "284805 -0.163298  0.123205 -0.569159  0.546668  0.108821  0.104533   10.00   \n",
       "284806  0.376777  0.008797 -0.473649 -0.818267 -0.002415  0.013649  217.00   \n",
       "\n",
       "        Class  \n",
       "0           0  \n",
       "1           0  \n",
       "2           0  \n",
       "3           0  \n",
       "4           0  \n",
       "...       ...  \n",
       "284802      0  \n",
       "284803      0  \n",
       "284804      0  \n",
       "284805      0  \n",
       "284806      0  \n",
       "\n",
       "[284807 rows x 31 columns]"
      ]
     },
     "execution_count": 3,
     "metadata": {},
     "output_type": "execute_result"
    }
   ],
   "source": [
    "data = pd.read_csv(\"creditcard.csv\")\n",
    "data"
   ]
  },
  {
   "cell_type": "code",
   "execution_count": 4,
   "id": "e0534fce",
   "metadata": {
    "ExecuteTime": {
     "end_time": "2022-05-10T20:11:00.099452Z",
     "start_time": "2022-05-10T20:10:55.561792Z"
    }
   },
   "outputs": [
    {
     "data": {
      "text/plain": [
       "0         False\n",
       "1         False\n",
       "2         False\n",
       "3         False\n",
       "4         False\n",
       "          ...  \n",
       "284802    False\n",
       "284803    False\n",
       "284804    False\n",
       "284805    False\n",
       "284806    False\n",
       "Length: 284807, dtype: bool"
      ]
     },
     "execution_count": 4,
     "metadata": {},
     "output_type": "execute_result"
    }
   ],
   "source": [
    "data.duplicated()"
   ]
  },
  {
   "cell_type": "code",
   "execution_count": 5,
   "id": "89229ce6",
   "metadata": {
    "ExecuteTime": {
     "end_time": "2022-05-10T20:11:22.467826Z",
     "start_time": "2022-05-10T20:11:18.956279Z"
    }
   },
   "outputs": [
    {
     "data": {
      "text/html": [
       "<div>\n",
       "<style scoped>\n",
       "    .dataframe tbody tr th:only-of-type {\n",
       "        vertical-align: middle;\n",
       "    }\n",
       "\n",
       "    .dataframe tbody tr th {\n",
       "        vertical-align: top;\n",
       "    }\n",
       "\n",
       "    .dataframe thead th {\n",
       "        text-align: right;\n",
       "    }\n",
       "</style>\n",
       "<table border=\"1\" class=\"dataframe\">\n",
       "  <thead>\n",
       "    <tr style=\"text-align: right;\">\n",
       "      <th></th>\n",
       "      <th>Time</th>\n",
       "      <th>V1</th>\n",
       "      <th>V2</th>\n",
       "      <th>V3</th>\n",
       "      <th>V4</th>\n",
       "      <th>V5</th>\n",
       "      <th>V6</th>\n",
       "      <th>V7</th>\n",
       "      <th>V8</th>\n",
       "      <th>V9</th>\n",
       "      <th>...</th>\n",
       "      <th>V21</th>\n",
       "      <th>V22</th>\n",
       "      <th>V23</th>\n",
       "      <th>V24</th>\n",
       "      <th>V25</th>\n",
       "      <th>V26</th>\n",
       "      <th>V27</th>\n",
       "      <th>V28</th>\n",
       "      <th>Amount</th>\n",
       "      <th>Class</th>\n",
       "    </tr>\n",
       "  </thead>\n",
       "  <tbody>\n",
       "    <tr>\n",
       "      <th>33</th>\n",
       "      <td>26.0</td>\n",
       "      <td>-0.529912</td>\n",
       "      <td>0.873892</td>\n",
       "      <td>1.347247</td>\n",
       "      <td>0.145457</td>\n",
       "      <td>0.414209</td>\n",
       "      <td>0.100223</td>\n",
       "      <td>0.711206</td>\n",
       "      <td>0.176066</td>\n",
       "      <td>-0.286717</td>\n",
       "      <td>...</td>\n",
       "      <td>0.046949</td>\n",
       "      <td>0.208105</td>\n",
       "      <td>-0.185548</td>\n",
       "      <td>0.001031</td>\n",
       "      <td>0.098816</td>\n",
       "      <td>-0.552904</td>\n",
       "      <td>-0.073288</td>\n",
       "      <td>0.023307</td>\n",
       "      <td>6.14</td>\n",
       "      <td>0</td>\n",
       "    </tr>\n",
       "    <tr>\n",
       "      <th>35</th>\n",
       "      <td>26.0</td>\n",
       "      <td>-0.535388</td>\n",
       "      <td>0.865268</td>\n",
       "      <td>1.351076</td>\n",
       "      <td>0.147575</td>\n",
       "      <td>0.433680</td>\n",
       "      <td>0.086983</td>\n",
       "      <td>0.693039</td>\n",
       "      <td>0.179742</td>\n",
       "      <td>-0.285642</td>\n",
       "      <td>...</td>\n",
       "      <td>0.049526</td>\n",
       "      <td>0.206537</td>\n",
       "      <td>-0.187108</td>\n",
       "      <td>0.000753</td>\n",
       "      <td>0.098117</td>\n",
       "      <td>-0.553471</td>\n",
       "      <td>-0.078306</td>\n",
       "      <td>0.025427</td>\n",
       "      <td>1.77</td>\n",
       "      <td>0</td>\n",
       "    </tr>\n",
       "    <tr>\n",
       "      <th>113</th>\n",
       "      <td>74.0</td>\n",
       "      <td>1.038370</td>\n",
       "      <td>0.127486</td>\n",
       "      <td>0.184456</td>\n",
       "      <td>1.109950</td>\n",
       "      <td>0.441699</td>\n",
       "      <td>0.945283</td>\n",
       "      <td>-0.036715</td>\n",
       "      <td>0.350995</td>\n",
       "      <td>0.118950</td>\n",
       "      <td>...</td>\n",
       "      <td>0.102520</td>\n",
       "      <td>0.605089</td>\n",
       "      <td>0.023092</td>\n",
       "      <td>-0.626463</td>\n",
       "      <td>0.479120</td>\n",
       "      <td>-0.166937</td>\n",
       "      <td>0.081247</td>\n",
       "      <td>0.001192</td>\n",
       "      <td>1.18</td>\n",
       "      <td>0</td>\n",
       "    </tr>\n",
       "    <tr>\n",
       "      <th>114</th>\n",
       "      <td>74.0</td>\n",
       "      <td>1.038370</td>\n",
       "      <td>0.127486</td>\n",
       "      <td>0.184456</td>\n",
       "      <td>1.109950</td>\n",
       "      <td>0.441699</td>\n",
       "      <td>0.945283</td>\n",
       "      <td>-0.036715</td>\n",
       "      <td>0.350995</td>\n",
       "      <td>0.118950</td>\n",
       "      <td>...</td>\n",
       "      <td>0.102520</td>\n",
       "      <td>0.605089</td>\n",
       "      <td>0.023092</td>\n",
       "      <td>-0.626463</td>\n",
       "      <td>0.479120</td>\n",
       "      <td>-0.166937</td>\n",
       "      <td>0.081247</td>\n",
       "      <td>0.001192</td>\n",
       "      <td>1.18</td>\n",
       "      <td>0</td>\n",
       "    </tr>\n",
       "    <tr>\n",
       "      <th>115</th>\n",
       "      <td>74.0</td>\n",
       "      <td>1.038370</td>\n",
       "      <td>0.127486</td>\n",
       "      <td>0.184456</td>\n",
       "      <td>1.109950</td>\n",
       "      <td>0.441699</td>\n",
       "      <td>0.945283</td>\n",
       "      <td>-0.036715</td>\n",
       "      <td>0.350995</td>\n",
       "      <td>0.118950</td>\n",
       "      <td>...</td>\n",
       "      <td>0.102520</td>\n",
       "      <td>0.605089</td>\n",
       "      <td>0.023092</td>\n",
       "      <td>-0.626463</td>\n",
       "      <td>0.479120</td>\n",
       "      <td>-0.166937</td>\n",
       "      <td>0.081247</td>\n",
       "      <td>0.001192</td>\n",
       "      <td>1.18</td>\n",
       "      <td>0</td>\n",
       "    </tr>\n",
       "    <tr>\n",
       "      <th>...</th>\n",
       "      <td>...</td>\n",
       "      <td>...</td>\n",
       "      <td>...</td>\n",
       "      <td>...</td>\n",
       "      <td>...</td>\n",
       "      <td>...</td>\n",
       "      <td>...</td>\n",
       "      <td>...</td>\n",
       "      <td>...</td>\n",
       "      <td>...</td>\n",
       "      <td>...</td>\n",
       "      <td>...</td>\n",
       "      <td>...</td>\n",
       "      <td>...</td>\n",
       "      <td>...</td>\n",
       "      <td>...</td>\n",
       "      <td>...</td>\n",
       "      <td>...</td>\n",
       "      <td>...</td>\n",
       "      <td>...</td>\n",
       "      <td>...</td>\n",
       "    </tr>\n",
       "    <tr>\n",
       "      <th>282987</th>\n",
       "      <td>171288.0</td>\n",
       "      <td>1.912550</td>\n",
       "      <td>-0.455240</td>\n",
       "      <td>-1.750654</td>\n",
       "      <td>0.454324</td>\n",
       "      <td>2.089130</td>\n",
       "      <td>4.160019</td>\n",
       "      <td>-0.881302</td>\n",
       "      <td>1.081750</td>\n",
       "      <td>1.022928</td>\n",
       "      <td>...</td>\n",
       "      <td>-0.524067</td>\n",
       "      <td>-1.337510</td>\n",
       "      <td>0.473943</td>\n",
       "      <td>0.616683</td>\n",
       "      <td>-0.283548</td>\n",
       "      <td>-1.084843</td>\n",
       "      <td>0.073133</td>\n",
       "      <td>-0.036020</td>\n",
       "      <td>11.99</td>\n",
       "      <td>0</td>\n",
       "    </tr>\n",
       "    <tr>\n",
       "      <th>283483</th>\n",
       "      <td>171627.0</td>\n",
       "      <td>-1.464380</td>\n",
       "      <td>1.368119</td>\n",
       "      <td>0.815992</td>\n",
       "      <td>-0.601282</td>\n",
       "      <td>-0.689115</td>\n",
       "      <td>-0.487154</td>\n",
       "      <td>-0.303778</td>\n",
       "      <td>0.884953</td>\n",
       "      <td>0.054065</td>\n",
       "      <td>...</td>\n",
       "      <td>0.287217</td>\n",
       "      <td>0.947825</td>\n",
       "      <td>-0.218773</td>\n",
       "      <td>0.082926</td>\n",
       "      <td>0.044127</td>\n",
       "      <td>0.639270</td>\n",
       "      <td>0.213565</td>\n",
       "      <td>0.119251</td>\n",
       "      <td>6.82</td>\n",
       "      <td>0</td>\n",
       "    </tr>\n",
       "    <tr>\n",
       "      <th>283485</th>\n",
       "      <td>171627.0</td>\n",
       "      <td>-1.457978</td>\n",
       "      <td>1.378203</td>\n",
       "      <td>0.811515</td>\n",
       "      <td>-0.603760</td>\n",
       "      <td>-0.711883</td>\n",
       "      <td>-0.471672</td>\n",
       "      <td>-0.282535</td>\n",
       "      <td>0.880654</td>\n",
       "      <td>0.052808</td>\n",
       "      <td>...</td>\n",
       "      <td>0.284205</td>\n",
       "      <td>0.949659</td>\n",
       "      <td>-0.216949</td>\n",
       "      <td>0.083250</td>\n",
       "      <td>0.044944</td>\n",
       "      <td>0.639933</td>\n",
       "      <td>0.219432</td>\n",
       "      <td>0.116772</td>\n",
       "      <td>11.93</td>\n",
       "      <td>0</td>\n",
       "    </tr>\n",
       "    <tr>\n",
       "      <th>284191</th>\n",
       "      <td>172233.0</td>\n",
       "      <td>-2.667936</td>\n",
       "      <td>3.160505</td>\n",
       "      <td>-3.355984</td>\n",
       "      <td>1.007845</td>\n",
       "      <td>-0.377397</td>\n",
       "      <td>-0.109730</td>\n",
       "      <td>-0.667233</td>\n",
       "      <td>2.309700</td>\n",
       "      <td>-1.639306</td>\n",
       "      <td>...</td>\n",
       "      <td>0.391483</td>\n",
       "      <td>0.266536</td>\n",
       "      <td>-0.079853</td>\n",
       "      <td>-0.096395</td>\n",
       "      <td>0.086719</td>\n",
       "      <td>-0.451128</td>\n",
       "      <td>-1.183743</td>\n",
       "      <td>-0.222200</td>\n",
       "      <td>55.66</td>\n",
       "      <td>0</td>\n",
       "    </tr>\n",
       "    <tr>\n",
       "      <th>284193</th>\n",
       "      <td>172233.0</td>\n",
       "      <td>-2.691642</td>\n",
       "      <td>3.123168</td>\n",
       "      <td>-3.339407</td>\n",
       "      <td>1.017018</td>\n",
       "      <td>-0.293095</td>\n",
       "      <td>-0.167054</td>\n",
       "      <td>-0.745886</td>\n",
       "      <td>2.325616</td>\n",
       "      <td>-1.634651</td>\n",
       "      <td>...</td>\n",
       "      <td>0.402639</td>\n",
       "      <td>0.259746</td>\n",
       "      <td>-0.086606</td>\n",
       "      <td>-0.097597</td>\n",
       "      <td>0.083693</td>\n",
       "      <td>-0.453584</td>\n",
       "      <td>-1.205466</td>\n",
       "      <td>-0.213020</td>\n",
       "      <td>36.74</td>\n",
       "      <td>0</td>\n",
       "    </tr>\n",
       "  </tbody>\n",
       "</table>\n",
       "<p>1081 rows × 31 columns</p>\n",
       "</div>"
      ],
      "text/plain": [
       "            Time        V1        V2        V3        V4        V5        V6  \\\n",
       "33          26.0 -0.529912  0.873892  1.347247  0.145457  0.414209  0.100223   \n",
       "35          26.0 -0.535388  0.865268  1.351076  0.147575  0.433680  0.086983   \n",
       "113         74.0  1.038370  0.127486  0.184456  1.109950  0.441699  0.945283   \n",
       "114         74.0  1.038370  0.127486  0.184456  1.109950  0.441699  0.945283   \n",
       "115         74.0  1.038370  0.127486  0.184456  1.109950  0.441699  0.945283   \n",
       "...          ...       ...       ...       ...       ...       ...       ...   \n",
       "282987  171288.0  1.912550 -0.455240 -1.750654  0.454324  2.089130  4.160019   \n",
       "283483  171627.0 -1.464380  1.368119  0.815992 -0.601282 -0.689115 -0.487154   \n",
       "283485  171627.0 -1.457978  1.378203  0.811515 -0.603760 -0.711883 -0.471672   \n",
       "284191  172233.0 -2.667936  3.160505 -3.355984  1.007845 -0.377397 -0.109730   \n",
       "284193  172233.0 -2.691642  3.123168 -3.339407  1.017018 -0.293095 -0.167054   \n",
       "\n",
       "              V7        V8        V9  ...       V21       V22       V23  \\\n",
       "33      0.711206  0.176066 -0.286717  ...  0.046949  0.208105 -0.185548   \n",
       "35      0.693039  0.179742 -0.285642  ...  0.049526  0.206537 -0.187108   \n",
       "113    -0.036715  0.350995  0.118950  ...  0.102520  0.605089  0.023092   \n",
       "114    -0.036715  0.350995  0.118950  ...  0.102520  0.605089  0.023092   \n",
       "115    -0.036715  0.350995  0.118950  ...  0.102520  0.605089  0.023092   \n",
       "...          ...       ...       ...  ...       ...       ...       ...   \n",
       "282987 -0.881302  1.081750  1.022928  ... -0.524067 -1.337510  0.473943   \n",
       "283483 -0.303778  0.884953  0.054065  ...  0.287217  0.947825 -0.218773   \n",
       "283485 -0.282535  0.880654  0.052808  ...  0.284205  0.949659 -0.216949   \n",
       "284191 -0.667233  2.309700 -1.639306  ...  0.391483  0.266536 -0.079853   \n",
       "284193 -0.745886  2.325616 -1.634651  ...  0.402639  0.259746 -0.086606   \n",
       "\n",
       "             V24       V25       V26       V27       V28  Amount  Class  \n",
       "33      0.001031  0.098816 -0.552904 -0.073288  0.023307    6.14      0  \n",
       "35      0.000753  0.098117 -0.553471 -0.078306  0.025427    1.77      0  \n",
       "113    -0.626463  0.479120 -0.166937  0.081247  0.001192    1.18      0  \n",
       "114    -0.626463  0.479120 -0.166937  0.081247  0.001192    1.18      0  \n",
       "115    -0.626463  0.479120 -0.166937  0.081247  0.001192    1.18      0  \n",
       "...          ...       ...       ...       ...       ...     ...    ...  \n",
       "282987  0.616683 -0.283548 -1.084843  0.073133 -0.036020   11.99      0  \n",
       "283483  0.082926  0.044127  0.639270  0.213565  0.119251    6.82      0  \n",
       "283485  0.083250  0.044944  0.639933  0.219432  0.116772   11.93      0  \n",
       "284191 -0.096395  0.086719 -0.451128 -1.183743 -0.222200   55.66      0  \n",
       "284193 -0.097597  0.083693 -0.453584 -1.205466 -0.213020   36.74      0  \n",
       "\n",
       "[1081 rows x 31 columns]"
      ]
     },
     "execution_count": 5,
     "metadata": {},
     "output_type": "execute_result"
    }
   ],
   "source": [
    "data[data.duplicated()]"
   ]
  },
  {
   "cell_type": "markdown",
   "id": "4a16e5fb",
   "metadata": {},
   "source": [
    "# EDA and Stuff"
   ]
  },
  {
   "cell_type": "markdown",
   "id": "b579c0a4",
   "metadata": {},
   "source": [
    "## Check for Imbalance"
   ]
  },
  {
   "cell_type": "code",
   "execution_count": 6,
   "id": "8bdc7f01",
   "metadata": {
    "ExecuteTime": {
     "end_time": "2022-05-10T20:11:52.637669Z",
     "start_time": "2022-05-10T20:11:52.621712Z"
    }
   },
   "outputs": [
    {
     "data": {
      "text/plain": [
       "0    284315\n",
       "1       492\n",
       "Name: Class, dtype: int64"
      ]
     },
     "execution_count": 6,
     "metadata": {},
     "output_type": "execute_result"
    }
   ],
   "source": [
    "data['Class'].value_counts()"
   ]
  },
  {
   "cell_type": "code",
   "execution_count": 7,
   "id": "a3172813",
   "metadata": {
    "ExecuteTime": {
     "end_time": "2022-05-10T20:11:59.043567Z",
     "start_time": "2022-05-10T20:11:59.022621Z"
    }
   },
   "outputs": [
    {
     "data": {
      "text/plain": [
       "0    99.827251\n",
       "1     0.172749\n",
       "Name: Class, dtype: float64"
      ]
     },
     "execution_count": 7,
     "metadata": {},
     "output_type": "execute_result"
    }
   ],
   "source": [
    "data['Class'].value_counts()/len(data)*100"
   ]
  },
  {
   "cell_type": "markdown",
   "id": "991aea63",
   "metadata": {},
   "source": [
    "As we can see, we have a lot of imbalance in data, we'll run the models without tackling the imbalance to set up the base performance"
   ]
  },
  {
   "cell_type": "markdown",
   "id": "f7d9227f",
   "metadata": {},
   "source": [
    "## Check for missing values"
   ]
  },
  {
   "cell_type": "code",
   "execution_count": 8,
   "id": "2e5ef235",
   "metadata": {
    "ExecuteTime": {
     "end_time": "2022-05-10T20:15:13.255778Z",
     "start_time": "2022-05-10T20:15:13.155046Z"
    }
   },
   "outputs": [
    {
     "name": "stdout",
     "output_type": "stream",
     "text": [
      "<class 'pandas.core.frame.DataFrame'>\n",
      "RangeIndex: 284807 entries, 0 to 284806\n",
      "Data columns (total 31 columns):\n",
      " #   Column  Non-Null Count   Dtype  \n",
      "---  ------  --------------   -----  \n",
      " 0   Time    284807 non-null  float64\n",
      " 1   V1      284807 non-null  float64\n",
      " 2   V2      284807 non-null  float64\n",
      " 3   V3      284807 non-null  float64\n",
      " 4   V4      284807 non-null  float64\n",
      " 5   V5      284807 non-null  float64\n",
      " 6   V6      284807 non-null  float64\n",
      " 7   V7      284807 non-null  float64\n",
      " 8   V8      284807 non-null  float64\n",
      " 9   V9      284807 non-null  float64\n",
      " 10  V10     284807 non-null  float64\n",
      " 11  V11     284807 non-null  float64\n",
      " 12  V12     284807 non-null  float64\n",
      " 13  V13     284807 non-null  float64\n",
      " 14  V14     284807 non-null  float64\n",
      " 15  V15     284807 non-null  float64\n",
      " 16  V16     284807 non-null  float64\n",
      " 17  V17     284807 non-null  float64\n",
      " 18  V18     284807 non-null  float64\n",
      " 19  V19     284807 non-null  float64\n",
      " 20  V20     284807 non-null  float64\n",
      " 21  V21     284807 non-null  float64\n",
      " 22  V22     284807 non-null  float64\n",
      " 23  V23     284807 non-null  float64\n",
      " 24  V24     284807 non-null  float64\n",
      " 25  V25     284807 non-null  float64\n",
      " 26  V26     284807 non-null  float64\n",
      " 27  V27     284807 non-null  float64\n",
      " 28  V28     284807 non-null  float64\n",
      " 29  Amount  284807 non-null  float64\n",
      " 30  Class   284807 non-null  int64  \n",
      "dtypes: float64(30), int64(1)\n",
      "memory usage: 67.4 MB\n"
     ]
    }
   ],
   "source": [
    "data.info()"
   ]
  },
  {
   "cell_type": "code",
   "execution_count": 9,
   "id": "28397eac",
   "metadata": {
    "ExecuteTime": {
     "end_time": "2022-05-10T20:21:04.777608Z",
     "start_time": "2022-05-10T20:21:04.718765Z"
    }
   },
   "outputs": [
    {
     "data": {
      "text/plain": [
       "Time      False\n",
       "V1        False\n",
       "V2        False\n",
       "V3        False\n",
       "V4        False\n",
       "V5        False\n",
       "V6        False\n",
       "V7        False\n",
       "V8        False\n",
       "V9        False\n",
       "V10       False\n",
       "V11       False\n",
       "V12       False\n",
       "V13       False\n",
       "V14       False\n",
       "V15       False\n",
       "V16       False\n",
       "V17       False\n",
       "V18       False\n",
       "V19       False\n",
       "V20       False\n",
       "V21       False\n",
       "V22       False\n",
       "V23       False\n",
       "V24       False\n",
       "V25       False\n",
       "V26       False\n",
       "V27       False\n",
       "V28       False\n",
       "Amount    False\n",
       "Class     False\n",
       "dtype: bool"
      ]
     },
     "execution_count": 9,
     "metadata": {},
     "output_type": "execute_result"
    }
   ],
   "source": [
    "data.isna().any()"
   ]
  },
  {
   "cell_type": "markdown",
   "id": "069ce3d0",
   "metadata": {},
   "source": [
    "## One Shot EDA using K/Llib and Dataprep"
   ]
  },
  {
   "cell_type": "code",
   "execution_count": 10,
   "id": "647e2f6e",
   "metadata": {
    "ExecuteTime": {
     "end_time": "2022-05-10T20:21:06.818218Z",
     "start_time": "2022-05-10T20:21:06.808249Z"
    }
   },
   "outputs": [],
   "source": [
    "#### Data Cleaning and changing dtypes"
   ]
  },
  {
   "cell_type": "code",
   "execution_count": 11,
   "id": "93f9d865",
   "metadata": {
    "ExecuteTime": {
     "end_time": "2022-05-10T20:21:17.823397Z",
     "start_time": "2022-05-10T20:21:07.401658Z"
    }
   },
   "outputs": [
    {
     "name": "stdout",
     "output_type": "stream",
     "text": [
      "Shape of cleaned data: (283726, 31) - Remaining NAs: 0\n",
      "\n",
      "\n",
      "Dropped rows: 1081\n",
      "     of which 1081 duplicates. (Rows (first 150 shown): [33, 35, 113, 114, 115, 221, 223, 1178, 1180, 1382, 1384, 1684, 1686, 2004, 2005, 2006, 2728, 2729, 2731, 2732, 2734, 2735, 2784, 2786, 2998, 3000, 3175, 3177, 3316, 3318, 3321, 3323, 4900, 4902, 5925, 5927, 6411, 6412, 6413, 9027, 9028, 9029, 11132, 11134, 12393, 12394, 12395, 13563, 13564, 13565, 13882, 13883, 13884, 16391, 16393, 17949, 17950, 17951, 18051, 18052, 18053, 18263, 18265, 19617, 19619, 19636, 19638, 19797, 19799, 20418, 20420, 21252, 21254, 21403, 21405, 21676, 21677, 21678, 21683, 21684, 21685, 21966, 21967, 21968, 22476, 22478, 22789, 22791, 23891, 23892, 23893, 24965, 24967, 24992, 24994, 25460, 25461, 25462, 25692, 25694, 26943, 26944, 26946, 26947, 26949, 26950, 27402, 27404, 27776, 27777, 27778, 28543, 28544, 28546, 28547, 28549, 28550, 28644, 28646, 29595, 29597, 30136, 30138, 30671, 30673, 30680, 30682, 31637, 31639, 31848, 31850, 31854, 31856, 31983, 31985, 32955, 32957, 34893, 34929, 34931, 35905, 35907, 36011, 36013, 36209, 36210, 36211, 37309, 37311, 37448])\n",
      "\n",
      "Dropped columns: 0\n",
      "     of which 0 single valued.     Columns: []\n",
      "Dropped missing values: 0\n",
      "Reduced memory by at least: 34.62 MB (-51.4%)\n",
      "\n"
     ]
    }
   ],
   "source": [
    "cleaned_data = klib.data_cleaning(data)"
   ]
  },
  {
   "cell_type": "code",
   "execution_count": 12,
   "id": "fceab329",
   "metadata": {
    "ExecuteTime": {
     "end_time": "2022-05-10T20:21:18.559157Z",
     "start_time": "2022-05-10T20:21:18.474032Z"
    }
   },
   "outputs": [
    {
     "name": "stdout",
     "output_type": "stream",
     "text": [
      "<class 'pandas.core.frame.DataFrame'>\n",
      "RangeIndex: 283726 entries, 0 to 283725\n",
      "Data columns (total 31 columns):\n",
      " #   Column  Non-Null Count   Dtype  \n",
      "---  ------  --------------   -----  \n",
      " 0   time    283726 non-null  float32\n",
      " 1   v1      283726 non-null  float32\n",
      " 2   v2      283726 non-null  float32\n",
      " 3   v3      283726 non-null  float32\n",
      " 4   v4      283726 non-null  float32\n",
      " 5   v5      283726 non-null  float32\n",
      " 6   v6      283726 non-null  float32\n",
      " 7   v7      283726 non-null  float32\n",
      " 8   v8      283726 non-null  float32\n",
      " 9   v9      283726 non-null  float32\n",
      " 10  v10     283726 non-null  float32\n",
      " 11  v11     283726 non-null  float32\n",
      " 12  v12     283726 non-null  float32\n",
      " 13  v13     283726 non-null  float32\n",
      " 14  v14     283726 non-null  float32\n",
      " 15  v15     283726 non-null  float32\n",
      " 16  v16     283726 non-null  float32\n",
      " 17  v17     283726 non-null  float32\n",
      " 18  v18     283726 non-null  float32\n",
      " 19  v19     283726 non-null  float32\n",
      " 20  v20     283726 non-null  float32\n",
      " 21  v21     283726 non-null  float32\n",
      " 22  v22     283726 non-null  float32\n",
      " 23  v23     283726 non-null  float32\n",
      " 24  v24     283726 non-null  float32\n",
      " 25  v25     283726 non-null  float32\n",
      " 26  v26     283726 non-null  float32\n",
      " 27  v27     283726 non-null  float32\n",
      " 28  v28     283726 non-null  float32\n",
      " 29  amount  283726 non-null  float32\n",
      " 30  class   283726 non-null  int8   \n",
      "dtypes: float32(30), int8(1)\n",
      "memory usage: 32.7 MB\n"
     ]
    }
   ],
   "source": [
    "cleaned_data.info()"
   ]
  },
  {
   "cell_type": "markdown",
   "id": "041d75bc",
   "metadata": {},
   "source": [
    "##### There are no missing values and hence no imputation is needed"
   ]
  },
  {
   "cell_type": "code",
   "execution_count": 13,
   "id": "fdbc85ed",
   "metadata": {
    "ExecuteTime": {
     "end_time": "2022-05-10T20:21:26.456168Z",
     "start_time": "2022-05-10T20:21:19.562411Z"
    }
   },
   "outputs": [
    {
     "data": {
      "text/plain": [
       "<AxesSubplot:>"
      ]
     },
     "execution_count": 13,
     "metadata": {},
     "output_type": "execute_result"
    },
    {
     "data": {
      "image/png": "[encoded data removed]",
      "text/plain": [
       "<Figure size 432x288 with 2 Axes>"
      ]
     },
     "metadata": {
      "needs_background": "light"
     },
     "output_type": "display_data"
    }
   ],
   "source": [
    "data.corr()\n",
    "\n",
    "sns.heatmap(data.corr())"
   ]
  },
  {
   "cell_type": "code",
   "execution_count": 14,
   "id": "499882a4",
   "metadata": {
    "ExecuteTime": {
     "end_time": "2022-05-10T20:21:27.062571Z",
     "start_time": "2022-05-10T20:21:27.051602Z"
    }
   },
   "outputs": [],
   "source": [
    "#### Correlations among data"
   ]
  },
  {
   "cell_type": "code",
   "execution_count": 15,
   "id": "6911d3ae",
   "metadata": {
    "ExecuteTime": {
     "end_time": "2022-05-10T20:21:38.734447Z",
     "start_time": "2022-05-10T20:21:28.154655Z"
    }
   },
   "outputs": [
    {
     "name": "stdout",
     "output_type": "stream",
     "text": [
      "Displaying absolute correlations above the threshold (0.5). Specify a positive \"threshold\" to limit the results further.\n"
     ]
    },
    {
     "data": {
      "text/plain": [
       "<AxesSubplot:title={'center':'Feature-correlation (spearman)'}>"
      ]
     },
     "execution_count": 15,
     "metadata": {},
     "output_type": "execute_result"
    },
    {
     "data": {
      "image/png": "[encoded data removed]",
      "text/plain": [
       "<Figure size 864x720 with 2 Axes>"
      ]
     },
     "metadata": {
      "needs_background": "light"
     },
     "output_type": "display_data"
    }
   ],
   "source": [
    "klib.corr_plot(cleaned_data,split='high',method='spearman',threshold=0.5)"
   ]
  },
  {
   "cell_type": "markdown",
   "id": "82759c08",
   "metadata": {
    "ExecuteTime": {
     "end_time": "2022-04-18T12:22:30.700858Z",
     "start_time": "2022-04-18T12:22:30.680911Z"
    }
   },
   "source": [
    "There is no High linear Correlation among features, everything seems to be fine"
   ]
  },
  {
   "cell_type": "markdown",
   "id": "108e26d7",
   "metadata": {},
   "source": [
    "## Plotting some plots to get some insights"
   ]
  },
  {
   "cell_type": "markdown",
   "id": "1a8d6d5e",
   "metadata": {
    "ExecuteTime": {
     "end_time": "2022-04-18T09:20:33.416502Z",
     "start_time": "2022-04-18T09:20:33.398546Z"
    }
   },
   "source": [
    "### Amount Variable"
   ]
  },
  {
   "cell_type": "code",
   "execution_count": 16,
   "id": "ff6c792e",
   "metadata": {
    "ExecuteTime": {
     "end_time": "2022-05-10T20:21:48.765321Z",
     "start_time": "2022-05-10T20:21:39.595986Z"
    }
   },
   "outputs": [
    {
     "name": "stderr",
     "output_type": "stream",
     "text": [
      "C:\\Users\\varsh\\anaconda3\\lib\\site-packages\\seaborn\\distributions.py:2619: FutureWarning: `distplot` is a deprecated function and will be removed in a future version. Please adapt your code to use either `displot` (a figure-level function with similar flexibility) or `histplot` (an axes-level function for histograms).\n",
      "  warnings.warn(msg, FutureWarning)\n",
      "C:\\Users\\varsh\\anaconda3\\lib\\site-packages\\seaborn\\distributions.py:2619: FutureWarning: `distplot` is a deprecated function and will be removed in a future version. Please adapt your code to use either `displot` (a figure-level function with similar flexibility) or `histplot` (an axes-level function for histograms).\n",
      "  warnings.warn(msg, FutureWarning)\n"
     ]
    },
    {
     "data": {
      "image/png": "[encoded data removed]",
      "text/plain": [
       "<Figure size 618.375x576 with 1 Axes>"
      ]
     },
     "metadata": {
      "needs_background": "light"
     },
     "output_type": "display_data"
    }
   ],
   "source": [
    "sns.FacetGrid(cleaned_data,hue='class',height=8).map(sns.distplot,\"amount\").add_legend()\n",
    "plt.show()"
   ]
  },
  {
   "cell_type": "markdown",
   "id": "20c4d2ee",
   "metadata": {
    "ExecuteTime": {
     "end_time": "2022-04-18T09:41:58.432810Z",
     "start_time": "2022-04-18T09:41:58.413847Z"
    }
   },
   "source": [
    "<b> It seems we may have some outliers for amount so, let's try Box plots/Violin to see a better picture <b/>"
   ]
  },
  {
   "cell_type": "code",
   "execution_count": 17,
   "id": "98c80d40",
   "metadata": {
    "ExecuteTime": {
     "end_time": "2022-05-10T20:21:51.031343Z",
     "start_time": "2022-05-10T20:21:49.518364Z"
    }
   },
   "outputs": [
    {
     "data": {
      "text/plain": [
       "<AxesSubplot:xlabel='class', ylabel='amount'>"
      ]
     },
     "execution_count": 17,
     "metadata": {},
     "output_type": "execute_result"
    },
    {
     "data": {
      "image/png": "[encoded data removed]",
      "text/plain": [
       "<Figure size 432x288 with 1 Axes>"
      ]
     },
     "metadata": {
      "needs_background": "light"
     },
     "output_type": "display_data"
    }
   ],
   "source": [
    "sns.boxplot(x='class',y='amount',data=cleaned_data)"
   ]
  },
  {
   "cell_type": "code",
   "execution_count": 18,
   "id": "fa89f9f7",
   "metadata": {
    "ExecuteTime": {
     "end_time": "2022-04-19T11:02:47.912495Z",
     "start_time": "2022-04-19T11:02:47.903519Z"
    }
   },
   "outputs": [
    {
     "data": {
      "text/plain": [
       "0         149.619995\n",
       "1           2.690000\n",
       "2         378.660004\n",
       "3         123.500000\n",
       "4          69.989998\n",
       "             ...    \n",
       "283721      0.770000\n",
       "283722     24.790001\n",
       "283723     67.879997\n",
       "283724     10.000000\n",
       "283725    217.000000\n",
       "Name: amount, Length: 283726, dtype: float32"
      ]
     },
     "execution_count": 18,
     "metadata": {},
     "output_type": "execute_result"
    }
   ],
   "source": [
    "cleaned_data['amount']"
   ]
  },
  {
   "cell_type": "code",
   "execution_count": 19,
   "id": "4e98b448",
   "metadata": {
    "ExecuteTime": {
     "end_time": "2022-05-10T20:22:40.437917Z",
     "start_time": "2022-05-10T20:22:37.729638Z"
    }
   },
   "outputs": [
    {
     "name": "stderr",
     "output_type": "stream",
     "text": [
      "C:\\Users\\varsh\\anaconda3\\lib\\site-packages\\seaborn\\axisgrid.py:670: UserWarning: Using the violinplot function without specifying `order` is likely to produce an incorrect plot.\n",
      "  warnings.warn(warning)\n"
     ]
    },
    {
     "data": {
      "text/plain": [
       "<seaborn.axisgrid.FacetGrid at 0x12e4e9b1130>"
      ]
     },
     "execution_count": 19,
     "metadata": {},
     "output_type": "execute_result"
    },
    {
     "data": {
      "image/png": "[encoded data removed]",
      "text/plain": [
       "<Figure size 618.375x576 with 1 Axes>"
      ]
     },
     "metadata": {
      "needs_background": "light"
     },
     "output_type": "display_data"
    }
   ],
   "source": [
    "#sns.violinplot(x='class',y='amount',data=cleaned_data)\n",
    "\n",
    "sns.FacetGrid(cleaned_data,hue='class',height=8).map(sns.violinplot,\"amount\").add_legend()"
   ]
  },
  {
   "cell_type": "markdown",
   "id": "de3f90ac",
   "metadata": {
    "ExecuteTime": {
     "end_time": "2022-04-18T09:53:49.664828Z",
     "start_time": "2022-04-18T09:53:49.642886Z"
    }
   },
   "source": [
    "<b> Let's Calculate the 75 and 90 Percentiles for Amount for class 0 <b/>"
   ]
  },
  {
   "cell_type": "code",
   "execution_count": 20,
   "id": "801638fe",
   "metadata": {
    "ExecuteTime": {
     "end_time": "2022-05-10T20:27:49.232807Z",
     "start_time": "2022-05-10T20:27:48.482576Z"
    }
   },
   "outputs": [
    {
     "data": {
      "text/plain": [
       "count    283253.000000\n",
       "mean         88.387161\n",
       "std         250.324829\n",
       "min           0.000000\n",
       "25%           5.670000\n",
       "50%          22.000000\n",
       "75%          77.459999\n",
       "max       25691.160156\n",
       "Name: amount, dtype: float64"
      ]
     },
     "execution_count": 20,
     "metadata": {},
     "output_type": "execute_result"
    }
   ],
   "source": [
    "amount = cleaned_data[cleaned_data['class'] == 0]['amount']\n",
    "amount.describe()"
   ]
  },
  {
   "cell_type": "code",
   "execution_count": 21,
   "id": "dd59f828",
   "metadata": {
    "ExecuteTime": {
     "end_time": "2022-05-10T20:28:12.642591Z",
     "start_time": "2022-05-10T20:28:12.123977Z"
    }
   },
   "outputs": [
    {
     "data": {
      "text/plain": [
       "3.5799999237060547"
      ]
     },
     "execution_count": 21,
     "metadata": {},
     "output_type": "execute_result"
    }
   ],
   "source": [
    "np.percentile(amount,20)"
   ]
  },
  {
   "cell_type": "code",
   "execution_count": 22,
   "id": "628d7631",
   "metadata": {
    "ExecuteTime": {
     "end_time": "2022-05-10T20:30:17.495906Z",
     "start_time": "2022-05-10T20:30:12.565420Z"
    }
   },
   "outputs": [
    {
     "data": {
      "text/plain": [
       "<AxesSubplot:>"
      ]
     },
     "execution_count": 22,
     "metadata": {},
     "output_type": "execute_result"
    },
    {
     "data": {
      "image/png": "[encoded data removed]",
      "text/plain": [
       "<Figure size 432x288 with 1 Axes>"
      ]
     },
     "metadata": {
      "needs_background": "light"
     },
     "output_type": "display_data"
    }
   ],
   "source": [
    "percentiles = [np.percentile(amount,q=q) for q in range(10,110,10)]\n",
    "\n",
    "sns.barplot(x=list(range(10,110,10)),y=percentiles)"
   ]
  },
  {
   "cell_type": "markdown",
   "id": "d4a4adbc",
   "metadata": {
    "ExecuteTime": {
     "end_time": "2022-04-18T10:00:45.136121Z",
     "start_time": "2022-04-18T10:00:45.127144Z"
    }
   },
   "source": [
    "<b> Let's Zoom in between 90 to 100 percentiles <b/>"
   ]
  },
  {
   "cell_type": "code",
   "execution_count": 23,
   "id": "030f70b2",
   "metadata": {
    "ExecuteTime": {
     "end_time": "2022-05-10T20:34:24.730796Z",
     "start_time": "2022-05-10T20:34:17.849107Z"
    }
   },
   "outputs": [
    {
     "data": {
      "image/png": "[encoded data removed]",
      "text/plain": [
       "<Figure size 576x576 with 1 Axes>"
      ]
     },
     "metadata": {
      "needs_background": "light"
     },
     "output_type": "display_data"
    }
   ],
   "source": [
    "percentiles = [np.percentile(amount,q=q) for q in range(90,101)]\n",
    "\n",
    "plt.figure(figsize=(8,8))\n",
    "sns.barplot(x=list(range(90,101)),y=percentiles)\n",
    "plt.show()"
   ]
  },
  {
   "cell_type": "markdown",
   "id": "efd3880b",
   "metadata": {},
   "source": [
    "<b> Let's Zoom in between 99 to 100 percentiles <b/>"
   ]
  },
  {
   "cell_type": "code",
   "execution_count": 24,
   "id": "23de8d6d",
   "metadata": {
    "ExecuteTime": {
     "end_time": "2022-05-10T20:34:33.022916Z",
     "start_time": "2022-05-10T20:34:25.387042Z"
    }
   },
   "outputs": [
    {
     "data": {
      "image/png": "[encoded data removed]",
      "text/plain": [
       "<Figure size 576x576 with 1 Axes>"
      ]
     },
     "metadata": {
      "needs_background": "light"
     },
     "output_type": "display_data"
    }
   ],
   "source": [
    "percentiles = [np.percentile(amount,q=q) for q in np.arange(99,100.1,0.1) ]\n",
    "\n",
    "plt.figure(figsize=(8,8))\n",
    "sns.barplot(x=np.arange(99,100.1,0.1),y=percentiles)\n",
    "plt.show()"
   ]
  },
  {
   "cell_type": "markdown",
   "id": "1dcc49e7",
   "metadata": {
    "ExecuteTime": {
     "end_time": "2022-04-18T10:07:38.291853Z",
     "start_time": "2022-04-18T10:07:38.271907Z"
    }
   },
   "source": [
    "<b> percentage of rows lying between 99 to 100 <b/>"
   ]
  },
  {
   "cell_type": "code",
   "execution_count": 25,
   "id": "2f2ed377",
   "metadata": {
    "ExecuteTime": {
     "end_time": "2022-05-10T20:34:39.470671Z",
     "start_time": "2022-05-10T20:34:36.567238Z"
    }
   },
   "outputs": [
    {
     "data": {
      "text/html": [
       "<div>\n",
       "<style scoped>\n",
       "    .dataframe tbody tr th:only-of-type {\n",
       "        vertical-align: middle;\n",
       "    }\n",
       "\n",
       "    .dataframe tbody tr th {\n",
       "        vertical-align: top;\n",
       "    }\n",
       "\n",
       "    .dataframe thead th {\n",
       "        text-align: right;\n",
       "    }\n",
       "</style>\n",
       "<table border=\"1\" class=\"dataframe\">\n",
       "  <thead>\n",
       "    <tr style=\"text-align: right;\">\n",
       "      <th></th>\n",
       "      <th>time</th>\n",
       "      <th>v1</th>\n",
       "      <th>v2</th>\n",
       "      <th>v3</th>\n",
       "      <th>v4</th>\n",
       "      <th>v5</th>\n",
       "      <th>v6</th>\n",
       "      <th>v7</th>\n",
       "      <th>v8</th>\n",
       "      <th>v9</th>\n",
       "      <th>...</th>\n",
       "      <th>v21</th>\n",
       "      <th>v22</th>\n",
       "      <th>v23</th>\n",
       "      <th>v24</th>\n",
       "      <th>v25</th>\n",
       "      <th>v26</th>\n",
       "      <th>v27</th>\n",
       "      <th>v28</th>\n",
       "      <th>amount</th>\n",
       "      <th>class</th>\n",
       "    </tr>\n",
       "  </thead>\n",
       "  <tbody>\n",
       "    <tr>\n",
       "      <th>49</th>\n",
       "      <td>36.0</td>\n",
       "      <td>-1.004929</td>\n",
       "      <td>-0.985978</td>\n",
       "      <td>-0.038039</td>\n",
       "      <td>3.710061</td>\n",
       "      <td>-6.631951</td>\n",
       "      <td>5.122103</td>\n",
       "      <td>4.371691</td>\n",
       "      <td>-2.006867</td>\n",
       "      <td>-0.278736</td>\n",
       "      <td>...</td>\n",
       "      <td>1.393406</td>\n",
       "      <td>-0.381671</td>\n",
       "      <td>0.969719</td>\n",
       "      <td>0.019445</td>\n",
       "      <td>0.570923</td>\n",
       "      <td>0.333278</td>\n",
       "      <td>0.857373</td>\n",
       "      <td>-0.075538</td>\n",
       "      <td>1402.949951</td>\n",
       "      <td>0</td>\n",
       "    </tr>\n",
       "    <tr>\n",
       "      <th>87</th>\n",
       "      <td>59.0</td>\n",
       "      <td>-0.773293</td>\n",
       "      <td>-4.146007</td>\n",
       "      <td>-0.932038</td>\n",
       "      <td>0.027094</td>\n",
       "      <td>-1.698307</td>\n",
       "      <td>0.460188</td>\n",
       "      <td>0.737345</td>\n",
       "      <td>-0.314216</td>\n",
       "      <td>-0.842673</td>\n",
       "      <td>...</td>\n",
       "      <td>0.890978</td>\n",
       "      <td>0.026123</td>\n",
       "      <td>-1.134769</td>\n",
       "      <td>-0.654958</td>\n",
       "      <td>0.098386</td>\n",
       "      <td>-0.209150</td>\n",
       "      <td>-0.171709</td>\n",
       "      <td>0.208057</td>\n",
       "      <td>1142.020020</td>\n",
       "      <td>0</td>\n",
       "    </tr>\n",
       "    <tr>\n",
       "      <th>159</th>\n",
       "      <td>103.0</td>\n",
       "      <td>-6.093248</td>\n",
       "      <td>-12.114213</td>\n",
       "      <td>-5.694973</td>\n",
       "      <td>3.294389</td>\n",
       "      <td>-1.413792</td>\n",
       "      <td>4.776000</td>\n",
       "      <td>4.808426</td>\n",
       "      <td>-0.228197</td>\n",
       "      <td>-0.525896</td>\n",
       "      <td>...</td>\n",
       "      <td>2.228823</td>\n",
       "      <td>-2.264037</td>\n",
       "      <td>-3.553381</td>\n",
       "      <td>1.215279</td>\n",
       "      <td>-0.406073</td>\n",
       "      <td>-0.653385</td>\n",
       "      <td>-0.711222</td>\n",
       "      <td>0.672900</td>\n",
       "      <td>3828.040039</td>\n",
       "      <td>0</td>\n",
       "    </tr>\n",
       "    <tr>\n",
       "      <th>858</th>\n",
       "      <td>656.0</td>\n",
       "      <td>-1.789835</td>\n",
       "      <td>-5.835768</td>\n",
       "      <td>-1.472791</td>\n",
       "      <td>-0.851160</td>\n",
       "      <td>-2.433875</td>\n",
       "      <td>0.401415</td>\n",
       "      <td>1.354543</td>\n",
       "      <td>-0.288283</td>\n",
       "      <td>2.426889</td>\n",
       "      <td>...</td>\n",
       "      <td>1.081404</td>\n",
       "      <td>-0.178233</td>\n",
       "      <td>-1.635914</td>\n",
       "      <td>-0.645651</td>\n",
       "      <td>0.112930</td>\n",
       "      <td>-0.726724</td>\n",
       "      <td>-0.184806</td>\n",
       "      <td>0.296762</td>\n",
       "      <td>1602.989990</td>\n",
       "      <td>0</td>\n",
       "    </tr>\n",
       "    <tr>\n",
       "      <th>1020</th>\n",
       "      <td>775.0</td>\n",
       "      <td>-3.900810</td>\n",
       "      <td>-3.098370</td>\n",
       "      <td>-0.213428</td>\n",
       "      <td>-2.678434</td>\n",
       "      <td>-2.927576</td>\n",
       "      <td>0.735688</td>\n",
       "      <td>1.591471</td>\n",
       "      <td>-3.465433</td>\n",
       "      <td>1.812757</td>\n",
       "      <td>...</td>\n",
       "      <td>-1.357870</td>\n",
       "      <td>-0.097578</td>\n",
       "      <td>-4.020300</td>\n",
       "      <td>0.191246</td>\n",
       "      <td>-0.204492</td>\n",
       "      <td>-1.076721</td>\n",
       "      <td>1.072961</td>\n",
       "      <td>-0.188497</td>\n",
       "      <td>1528.900024</td>\n",
       "      <td>0</td>\n",
       "    </tr>\n",
       "    <tr>\n",
       "      <th>...</th>\n",
       "      <td>...</td>\n",
       "      <td>...</td>\n",
       "      <td>...</td>\n",
       "      <td>...</td>\n",
       "      <td>...</td>\n",
       "      <td>...</td>\n",
       "      <td>...</td>\n",
       "      <td>...</td>\n",
       "      <td>...</td>\n",
       "      <td>...</td>\n",
       "      <td>...</td>\n",
       "      <td>...</td>\n",
       "      <td>...</td>\n",
       "      <td>...</td>\n",
       "      <td>...</td>\n",
       "      <td>...</td>\n",
       "      <td>...</td>\n",
       "      <td>...</td>\n",
       "      <td>...</td>\n",
       "      <td>...</td>\n",
       "      <td>...</td>\n",
       "    </tr>\n",
       "    <tr>\n",
       "      <th>282796</th>\n",
       "      <td>171943.0</td>\n",
       "      <td>0.087032</td>\n",
       "      <td>-2.727628</td>\n",
       "      <td>-3.215030</td>\n",
       "      <td>2.216197</td>\n",
       "      <td>-0.229633</td>\n",
       "      <td>-1.419572</td>\n",
       "      <td>2.553476</td>\n",
       "      <td>-0.987507</td>\n",
       "      <td>-0.614069</td>\n",
       "      <td>...</td>\n",
       "      <td>0.969833</td>\n",
       "      <td>0.738640</td>\n",
       "      <td>-1.082522</td>\n",
       "      <td>0.535977</td>\n",
       "      <td>0.474597</td>\n",
       "      <td>-0.330842</td>\n",
       "      <td>-0.235690</td>\n",
       "      <td>0.105630</td>\n",
       "      <td>1026.459961</td>\n",
       "      <td>0</td>\n",
       "    </tr>\n",
       "    <tr>\n",
       "      <th>283075</th>\n",
       "      <td>172199.0</td>\n",
       "      <td>-1.448606</td>\n",
       "      <td>-2.673922</td>\n",
       "      <td>-3.563343</td>\n",
       "      <td>-0.194096</td>\n",
       "      <td>0.007561</td>\n",
       "      <td>4.999177</td>\n",
       "      <td>4.136303</td>\n",
       "      <td>0.159725</td>\n",
       "      <td>-2.951736</td>\n",
       "      <td>...</td>\n",
       "      <td>0.644819</td>\n",
       "      <td>0.520282</td>\n",
       "      <td>2.202927</td>\n",
       "      <td>0.683422</td>\n",
       "      <td>0.446953</td>\n",
       "      <td>1.403290</td>\n",
       "      <td>-0.242420</td>\n",
       "      <td>0.221515</td>\n",
       "      <td>1088.040039</td>\n",
       "      <td>0</td>\n",
       "    </tr>\n",
       "    <tr>\n",
       "      <th>283168</th>\n",
       "      <td>172273.0</td>\n",
       "      <td>-9.030538</td>\n",
       "      <td>-11.112584</td>\n",
       "      <td>-16.233797</td>\n",
       "      <td>3.592021</td>\n",
       "      <td>-40.427727</td>\n",
       "      <td>23.917837</td>\n",
       "      <td>44.054462</td>\n",
       "      <td>-7.277778</td>\n",
       "      <td>-4.210637</td>\n",
       "      <td>...</td>\n",
       "      <td>-0.269048</td>\n",
       "      <td>0.988144</td>\n",
       "      <td>7.040028</td>\n",
       "      <td>0.347694</td>\n",
       "      <td>2.520869</td>\n",
       "      <td>2.342494</td>\n",
       "      <td>3.478175</td>\n",
       "      <td>-2.713136</td>\n",
       "      <td>10199.440430</td>\n",
       "      <td>0</td>\n",
       "    </tr>\n",
       "    <tr>\n",
       "      <th>283302</th>\n",
       "      <td>172397.0</td>\n",
       "      <td>-0.065120</td>\n",
       "      <td>-4.114668</td>\n",
       "      <td>-2.106854</td>\n",
       "      <td>-0.137339</td>\n",
       "      <td>-1.384530</td>\n",
       "      <td>0.239999</td>\n",
       "      <td>0.893833</td>\n",
       "      <td>-0.257922</td>\n",
       "      <td>1.145887</td>\n",
       "      <td>...</td>\n",
       "      <td>0.395868</td>\n",
       "      <td>-1.244969</td>\n",
       "      <td>-0.686403</td>\n",
       "      <td>-0.963878</td>\n",
       "      <td>-0.924685</td>\n",
       "      <td>0.210599</td>\n",
       "      <td>-0.253408</td>\n",
       "      <td>0.125687</td>\n",
       "      <td>1114.000000</td>\n",
       "      <td>0</td>\n",
       "    </tr>\n",
       "    <tr>\n",
       "      <th>283416</th>\n",
       "      <td>172498.0</td>\n",
       "      <td>-0.801222</td>\n",
       "      <td>-4.874934</td>\n",
       "      <td>-3.195666</td>\n",
       "      <td>1.177224</td>\n",
       "      <td>-1.299393</td>\n",
       "      <td>-0.397073</td>\n",
       "      <td>2.192428</td>\n",
       "      <td>-0.603173</td>\n",
       "      <td>0.358854</td>\n",
       "      <td>...</td>\n",
       "      <td>0.778143</td>\n",
       "      <td>-1.011155</td>\n",
       "      <td>-1.160277</td>\n",
       "      <td>-0.266300</td>\n",
       "      <td>-0.523929</td>\n",
       "      <td>-0.233779</td>\n",
       "      <td>-0.338745</td>\n",
       "      <td>0.180252</td>\n",
       "      <td>1484.660034</td>\n",
       "      <td>0</td>\n",
       "    </tr>\n",
       "  </tbody>\n",
       "</table>\n",
       "<p>2838 rows × 31 columns</p>\n",
       "</div>"
      ],
      "text/plain": [
       "            time        v1         v2         v3        v4         v5  \\\n",
       "49          36.0 -1.004929  -0.985978  -0.038039  3.710061  -6.631951   \n",
       "87          59.0 -0.773293  -4.146007  -0.932038  0.027094  -1.698307   \n",
       "159        103.0 -6.093248 -12.114213  -5.694973  3.294389  -1.413792   \n",
       "858        656.0 -1.789835  -5.835768  -1.472791 -0.851160  -2.433875   \n",
       "1020       775.0 -3.900810  -3.098370  -0.213428 -2.678434  -2.927576   \n",
       "...          ...       ...        ...        ...       ...        ...   \n",
       "282796  171943.0  0.087032  -2.727628  -3.215030  2.216197  -0.229633   \n",
       "283075  172199.0 -1.448606  -2.673922  -3.563343 -0.194096   0.007561   \n",
       "283168  172273.0 -9.030538 -11.112584 -16.233797  3.592021 -40.427727   \n",
       "283302  172397.0 -0.065120  -4.114668  -2.106854 -0.137339  -1.384530   \n",
       "283416  172498.0 -0.801222  -4.874934  -3.195666  1.177224  -1.299393   \n",
       "\n",
       "               v6         v7        v8        v9  ...       v21       v22  \\\n",
       "49       5.122103   4.371691 -2.006867 -0.278736  ...  1.393406 -0.381671   \n",
       "87       0.460188   0.737345 -0.314216 -0.842673  ...  0.890978  0.026123   \n",
       "159      4.776000   4.808426 -0.228197 -0.525896  ...  2.228823 -2.264037   \n",
       "858      0.401415   1.354543 -0.288283  2.426889  ...  1.081404 -0.178233   \n",
       "1020     0.735688   1.591471 -3.465433  1.812757  ... -1.357870 -0.097578   \n",
       "...           ...        ...       ...       ...  ...       ...       ...   \n",
       "282796  -1.419572   2.553476 -0.987507 -0.614069  ...  0.969833  0.738640   \n",
       "283075   4.999177   4.136303  0.159725 -2.951736  ...  0.644819  0.520282   \n",
       "283168  23.917837  44.054462 -7.277778 -4.210637  ... -0.269048  0.988144   \n",
       "283302   0.239999   0.893833 -0.257922  1.145887  ...  0.395868 -1.244969   \n",
       "283416  -0.397073   2.192428 -0.603173  0.358854  ...  0.778143 -1.011155   \n",
       "\n",
       "             v23       v24       v25       v26       v27       v28  \\\n",
       "49      0.969719  0.019445  0.570923  0.333278  0.857373 -0.075538   \n",
       "87     -1.134769 -0.654958  0.098386 -0.209150 -0.171709  0.208057   \n",
       "159    -3.553381  1.215279 -0.406073 -0.653385 -0.711222  0.672900   \n",
       "858    -1.635914 -0.645651  0.112930 -0.726724 -0.184806  0.296762   \n",
       "1020   -4.020300  0.191246 -0.204492 -1.076721  1.072961 -0.188497   \n",
       "...          ...       ...       ...       ...       ...       ...   \n",
       "282796 -1.082522  0.535977  0.474597 -0.330842 -0.235690  0.105630   \n",
       "283075  2.202927  0.683422  0.446953  1.403290 -0.242420  0.221515   \n",
       "283168  7.040028  0.347694  2.520869  2.342494  3.478175 -2.713136   \n",
       "283302 -0.686403 -0.963878 -0.924685  0.210599 -0.253408  0.125687   \n",
       "283416 -1.160277 -0.266300 -0.523929 -0.233779 -0.338745  0.180252   \n",
       "\n",
       "              amount  class  \n",
       "49       1402.949951      0  \n",
       "87       1142.020020      0  \n",
       "159      3828.040039      0  \n",
       "858      1602.989990      0  \n",
       "1020     1528.900024      0  \n",
       "...              ...    ...  \n",
       "282796   1026.459961      0  \n",
       "283075   1088.040039      0  \n",
       "283168  10199.440430      0  \n",
       "283302   1114.000000      0  \n",
       "283416   1484.660034      0  \n",
       "\n",
       "[2838 rows x 31 columns]"
      ]
     },
     "execution_count": 25,
     "metadata": {},
     "output_type": "execute_result"
    }
   ],
   "source": [
    "outlier_data = cleaned_data[(cleaned_data['amount']>=np.percentile(cleaned_data['amount'],99)) & (cleaned_data['amount']<=np.percentile(cleaned_data['amount'],100))]\n",
    "cleaned_data = cleaned_data[~(cleaned_data['amount']>=np.percentile(cleaned_data['amount'],99)) & (cleaned_data['amount']<=np.percentile(cleaned_data['amount'],100))]\n",
    "\n",
    "outlier_data"
   ]
  },
  {
   "cell_type": "code",
   "execution_count": 26,
   "id": "1edaf6ef",
   "metadata": {
    "ExecuteTime": {
     "end_time": "2022-05-10T20:34:45.111470Z",
     "start_time": "2022-05-10T20:34:44.926451Z"
    }
   },
   "outputs": [
    {
     "data": {
      "text/html": [
       "<div>\n",
       "<style scoped>\n",
       "    .dataframe tbody tr th:only-of-type {\n",
       "        vertical-align: middle;\n",
       "    }\n",
       "\n",
       "    .dataframe tbody tr th {\n",
       "        vertical-align: top;\n",
       "    }\n",
       "\n",
       "    .dataframe thead th {\n",
       "        text-align: right;\n",
       "    }\n",
       "</style>\n",
       "<table border=\"1\" class=\"dataframe\">\n",
       "  <thead>\n",
       "    <tr style=\"text-align: right;\">\n",
       "      <th></th>\n",
       "      <th>time</th>\n",
       "      <th>v1</th>\n",
       "      <th>v2</th>\n",
       "      <th>v3</th>\n",
       "      <th>v4</th>\n",
       "      <th>v5</th>\n",
       "      <th>v6</th>\n",
       "      <th>v7</th>\n",
       "      <th>v8</th>\n",
       "      <th>v9</th>\n",
       "      <th>...</th>\n",
       "      <th>v21</th>\n",
       "      <th>v22</th>\n",
       "      <th>v23</th>\n",
       "      <th>v24</th>\n",
       "      <th>v25</th>\n",
       "      <th>v26</th>\n",
       "      <th>v27</th>\n",
       "      <th>v28</th>\n",
       "      <th>amount</th>\n",
       "      <th>class</th>\n",
       "    </tr>\n",
       "  </thead>\n",
       "  <tbody>\n",
       "    <tr>\n",
       "      <th>0</th>\n",
       "      <td>0.0</td>\n",
       "      <td>-1.359807</td>\n",
       "      <td>-0.072781</td>\n",
       "      <td>2.536347</td>\n",
       "      <td>1.378155</td>\n",
       "      <td>-0.338321</td>\n",
       "      <td>0.462388</td>\n",
       "      <td>0.239599</td>\n",
       "      <td>0.098698</td>\n",
       "      <td>0.363787</td>\n",
       "      <td>...</td>\n",
       "      <td>-0.018307</td>\n",
       "      <td>0.277838</td>\n",
       "      <td>-0.110474</td>\n",
       "      <td>0.066928</td>\n",
       "      <td>0.128539</td>\n",
       "      <td>-0.189115</td>\n",
       "      <td>0.133558</td>\n",
       "      <td>-0.021053</td>\n",
       "      <td>149.619995</td>\n",
       "      <td>0</td>\n",
       "    </tr>\n",
       "    <tr>\n",
       "      <th>1</th>\n",
       "      <td>0.0</td>\n",
       "      <td>1.191857</td>\n",
       "      <td>0.266151</td>\n",
       "      <td>0.166480</td>\n",
       "      <td>0.448154</td>\n",
       "      <td>0.060018</td>\n",
       "      <td>-0.082361</td>\n",
       "      <td>-0.078803</td>\n",
       "      <td>0.085102</td>\n",
       "      <td>-0.255425</td>\n",
       "      <td>...</td>\n",
       "      <td>-0.225775</td>\n",
       "      <td>-0.638672</td>\n",
       "      <td>0.101288</td>\n",
       "      <td>-0.339846</td>\n",
       "      <td>0.167170</td>\n",
       "      <td>0.125895</td>\n",
       "      <td>-0.008983</td>\n",
       "      <td>0.014724</td>\n",
       "      <td>2.690000</td>\n",
       "      <td>0</td>\n",
       "    </tr>\n",
       "    <tr>\n",
       "      <th>2</th>\n",
       "      <td>1.0</td>\n",
       "      <td>-1.358354</td>\n",
       "      <td>-1.340163</td>\n",
       "      <td>1.773209</td>\n",
       "      <td>0.379780</td>\n",
       "      <td>-0.503198</td>\n",
       "      <td>1.800499</td>\n",
       "      <td>0.791461</td>\n",
       "      <td>0.247676</td>\n",
       "      <td>-1.514654</td>\n",
       "      <td>...</td>\n",
       "      <td>0.247998</td>\n",
       "      <td>0.771679</td>\n",
       "      <td>0.909412</td>\n",
       "      <td>-0.689281</td>\n",
       "      <td>-0.327642</td>\n",
       "      <td>-0.139097</td>\n",
       "      <td>-0.055353</td>\n",
       "      <td>-0.059752</td>\n",
       "      <td>378.660004</td>\n",
       "      <td>0</td>\n",
       "    </tr>\n",
       "    <tr>\n",
       "      <th>3</th>\n",
       "      <td>1.0</td>\n",
       "      <td>-0.966272</td>\n",
       "      <td>-0.185226</td>\n",
       "      <td>1.792993</td>\n",
       "      <td>-0.863291</td>\n",
       "      <td>-0.010309</td>\n",
       "      <td>1.247203</td>\n",
       "      <td>0.237609</td>\n",
       "      <td>0.377436</td>\n",
       "      <td>-1.387024</td>\n",
       "      <td>...</td>\n",
       "      <td>-0.108300</td>\n",
       "      <td>0.005274</td>\n",
       "      <td>-0.190321</td>\n",
       "      <td>-1.175575</td>\n",
       "      <td>0.647376</td>\n",
       "      <td>-0.221929</td>\n",
       "      <td>0.062723</td>\n",
       "      <td>0.061458</td>\n",
       "      <td>123.500000</td>\n",
       "      <td>0</td>\n",
       "    </tr>\n",
       "    <tr>\n",
       "      <th>4</th>\n",
       "      <td>2.0</td>\n",
       "      <td>-1.158233</td>\n",
       "      <td>0.877737</td>\n",
       "      <td>1.548718</td>\n",
       "      <td>0.403034</td>\n",
       "      <td>-0.407193</td>\n",
       "      <td>0.095921</td>\n",
       "      <td>0.592941</td>\n",
       "      <td>-0.270533</td>\n",
       "      <td>0.817739</td>\n",
       "      <td>...</td>\n",
       "      <td>-0.009431</td>\n",
       "      <td>0.798279</td>\n",
       "      <td>-0.137458</td>\n",
       "      <td>0.141267</td>\n",
       "      <td>-0.206010</td>\n",
       "      <td>0.502292</td>\n",
       "      <td>0.219422</td>\n",
       "      <td>0.215153</td>\n",
       "      <td>69.989998</td>\n",
       "      <td>0</td>\n",
       "    </tr>\n",
       "    <tr>\n",
       "      <th>...</th>\n",
       "      <td>...</td>\n",
       "      <td>...</td>\n",
       "      <td>...</td>\n",
       "      <td>...</td>\n",
       "      <td>...</td>\n",
       "      <td>...</td>\n",
       "      <td>...</td>\n",
       "      <td>...</td>\n",
       "      <td>...</td>\n",
       "      <td>...</td>\n",
       "      <td>...</td>\n",
       "      <td>...</td>\n",
       "      <td>...</td>\n",
       "      <td>...</td>\n",
       "      <td>...</td>\n",
       "      <td>...</td>\n",
       "      <td>...</td>\n",
       "      <td>...</td>\n",
       "      <td>...</td>\n",
       "      <td>...</td>\n",
       "      <td>...</td>\n",
       "    </tr>\n",
       "    <tr>\n",
       "      <th>280883</th>\n",
       "      <td>172786.0</td>\n",
       "      <td>-11.881118</td>\n",
       "      <td>10.071785</td>\n",
       "      <td>-9.834784</td>\n",
       "      <td>-2.066656</td>\n",
       "      <td>-5.364473</td>\n",
       "      <td>-2.606837</td>\n",
       "      <td>-4.918215</td>\n",
       "      <td>7.305334</td>\n",
       "      <td>1.914428</td>\n",
       "      <td>...</td>\n",
       "      <td>0.213454</td>\n",
       "      <td>0.111864</td>\n",
       "      <td>1.014480</td>\n",
       "      <td>-0.509348</td>\n",
       "      <td>1.436807</td>\n",
       "      <td>0.250034</td>\n",
       "      <td>0.943651</td>\n",
       "      <td>0.823731</td>\n",
       "      <td>0.770000</td>\n",
       "      <td>0</td>\n",
       "    </tr>\n",
       "    <tr>\n",
       "      <th>280884</th>\n",
       "      <td>172787.0</td>\n",
       "      <td>-0.732789</td>\n",
       "      <td>-0.055080</td>\n",
       "      <td>2.035030</td>\n",
       "      <td>-0.738589</td>\n",
       "      <td>0.868229</td>\n",
       "      <td>1.058415</td>\n",
       "      <td>0.024330</td>\n",
       "      <td>0.294869</td>\n",
       "      <td>0.584800</td>\n",
       "      <td>...</td>\n",
       "      <td>0.214205</td>\n",
       "      <td>0.924384</td>\n",
       "      <td>0.012463</td>\n",
       "      <td>-1.016226</td>\n",
       "      <td>-0.606624</td>\n",
       "      <td>-0.395255</td>\n",
       "      <td>0.068472</td>\n",
       "      <td>-0.053527</td>\n",
       "      <td>24.790001</td>\n",
       "      <td>0</td>\n",
       "    </tr>\n",
       "    <tr>\n",
       "      <th>280885</th>\n",
       "      <td>172788.0</td>\n",
       "      <td>1.919565</td>\n",
       "      <td>-0.301254</td>\n",
       "      <td>-3.249640</td>\n",
       "      <td>-0.557828</td>\n",
       "      <td>2.630515</td>\n",
       "      <td>3.031260</td>\n",
       "      <td>-0.296827</td>\n",
       "      <td>0.708417</td>\n",
       "      <td>0.432454</td>\n",
       "      <td>...</td>\n",
       "      <td>0.232045</td>\n",
       "      <td>0.578229</td>\n",
       "      <td>-0.037501</td>\n",
       "      <td>0.640134</td>\n",
       "      <td>0.265745</td>\n",
       "      <td>-0.087371</td>\n",
       "      <td>0.004455</td>\n",
       "      <td>-0.026561</td>\n",
       "      <td>67.879997</td>\n",
       "      <td>0</td>\n",
       "    </tr>\n",
       "    <tr>\n",
       "      <th>280886</th>\n",
       "      <td>172788.0</td>\n",
       "      <td>-0.240440</td>\n",
       "      <td>0.530483</td>\n",
       "      <td>0.702510</td>\n",
       "      <td>0.689799</td>\n",
       "      <td>-0.377961</td>\n",
       "      <td>0.623708</td>\n",
       "      <td>-0.686180</td>\n",
       "      <td>0.679145</td>\n",
       "      <td>0.392087</td>\n",
       "      <td>...</td>\n",
       "      <td>0.265245</td>\n",
       "      <td>0.800049</td>\n",
       "      <td>-0.163298</td>\n",
       "      <td>0.123205</td>\n",
       "      <td>-0.569159</td>\n",
       "      <td>0.546668</td>\n",
       "      <td>0.108821</td>\n",
       "      <td>0.104533</td>\n",
       "      <td>10.000000</td>\n",
       "      <td>0</td>\n",
       "    </tr>\n",
       "    <tr>\n",
       "      <th>280887</th>\n",
       "      <td>172792.0</td>\n",
       "      <td>-0.533413</td>\n",
       "      <td>-0.189733</td>\n",
       "      <td>0.703337</td>\n",
       "      <td>-0.506271</td>\n",
       "      <td>-0.012546</td>\n",
       "      <td>-0.649617</td>\n",
       "      <td>1.577006</td>\n",
       "      <td>-0.414650</td>\n",
       "      <td>0.486180</td>\n",
       "      <td>...</td>\n",
       "      <td>0.261057</td>\n",
       "      <td>0.643078</td>\n",
       "      <td>0.376777</td>\n",
       "      <td>0.008797</td>\n",
       "      <td>-0.473649</td>\n",
       "      <td>-0.818267</td>\n",
       "      <td>-0.002415</td>\n",
       "      <td>0.013649</td>\n",
       "      <td>217.000000</td>\n",
       "      <td>0</td>\n",
       "    </tr>\n",
       "  </tbody>\n",
       "</table>\n",
       "<p>280888 rows × 31 columns</p>\n",
       "</div>"
      ],
      "text/plain": [
       "            time         v1         v2        v3        v4        v5  \\\n",
       "0            0.0  -1.359807  -0.072781  2.536347  1.378155 -0.338321   \n",
       "1            0.0   1.191857   0.266151  0.166480  0.448154  0.060018   \n",
       "2            1.0  -1.358354  -1.340163  1.773209  0.379780 -0.503198   \n",
       "3            1.0  -0.966272  -0.185226  1.792993 -0.863291 -0.010309   \n",
       "4            2.0  -1.158233   0.877737  1.548718  0.403034 -0.407193   \n",
       "...          ...        ...        ...       ...       ...       ...   \n",
       "280883  172786.0 -11.881118  10.071785 -9.834784 -2.066656 -5.364473   \n",
       "280884  172787.0  -0.732789  -0.055080  2.035030 -0.738589  0.868229   \n",
       "280885  172788.0   1.919565  -0.301254 -3.249640 -0.557828  2.630515   \n",
       "280886  172788.0  -0.240440   0.530483  0.702510  0.689799 -0.377961   \n",
       "280887  172792.0  -0.533413  -0.189733  0.703337 -0.506271 -0.012546   \n",
       "\n",
       "              v6        v7        v8        v9  ...       v21       v22  \\\n",
       "0       0.462388  0.239599  0.098698  0.363787  ... -0.018307  0.277838   \n",
       "1      -0.082361 -0.078803  0.085102 -0.255425  ... -0.225775 -0.638672   \n",
       "2       1.800499  0.791461  0.247676 -1.514654  ...  0.247998  0.771679   \n",
       "3       1.247203  0.237609  0.377436 -1.387024  ... -0.108300  0.005274   \n",
       "4       0.095921  0.592941 -0.270533  0.817739  ... -0.009431  0.798279   \n",
       "...          ...       ...       ...       ...  ...       ...       ...   \n",
       "280883 -2.606837 -4.918215  7.305334  1.914428  ...  0.213454  0.111864   \n",
       "280884  1.058415  0.024330  0.294869  0.584800  ...  0.214205  0.924384   \n",
       "280885  3.031260 -0.296827  0.708417  0.432454  ...  0.232045  0.578229   \n",
       "280886  0.623708 -0.686180  0.679145  0.392087  ...  0.265245  0.800049   \n",
       "280887 -0.649617  1.577006 -0.414650  0.486180  ...  0.261057  0.643078   \n",
       "\n",
       "             v23       v24       v25       v26       v27       v28  \\\n",
       "0      -0.110474  0.066928  0.128539 -0.189115  0.133558 -0.021053   \n",
       "1       0.101288 -0.339846  0.167170  0.125895 -0.008983  0.014724   \n",
       "2       0.909412 -0.689281 -0.327642 -0.139097 -0.055353 -0.059752   \n",
       "3      -0.190321 -1.175575  0.647376 -0.221929  0.062723  0.061458   \n",
       "4      -0.137458  0.141267 -0.206010  0.502292  0.219422  0.215153   \n",
       "...          ...       ...       ...       ...       ...       ...   \n",
       "280883  1.014480 -0.509348  1.436807  0.250034  0.943651  0.823731   \n",
       "280884  0.012463 -1.016226 -0.606624 -0.395255  0.068472 -0.053527   \n",
       "280885 -0.037501  0.640134  0.265745 -0.087371  0.004455 -0.026561   \n",
       "280886 -0.163298  0.123205 -0.569159  0.546668  0.108821  0.104533   \n",
       "280887  0.376777  0.008797 -0.473649 -0.818267 -0.002415  0.013649   \n",
       "\n",
       "            amount  class  \n",
       "0       149.619995      0  \n",
       "1         2.690000      0  \n",
       "2       378.660004      0  \n",
       "3       123.500000      0  \n",
       "4        69.989998      0  \n",
       "...            ...    ...  \n",
       "280883    0.770000      0  \n",
       "280884   24.790001      0  \n",
       "280885   67.879997      0  \n",
       "280886   10.000000      0  \n",
       "280887  217.000000      0  \n",
       "\n",
       "[280888 rows x 31 columns]"
      ]
     },
     "execution_count": 26,
     "metadata": {},
     "output_type": "execute_result"
    }
   ],
   "source": [
    "cleaned_data.reset_index(drop=True,inplace=True)\n",
    "cleaned_data"
   ]
  },
  {
   "cell_type": "code",
   "execution_count": 27,
   "id": "224ea292",
   "metadata": {
    "ExecuteTime": {
     "end_time": "2022-05-10T20:34:52.864150Z",
     "start_time": "2022-05-10T20:34:52.855174Z"
    }
   },
   "outputs": [
    {
     "data": {
      "text/plain": [
       "0.9964642722966781"
      ]
     },
     "execution_count": 27,
     "metadata": {},
     "output_type": "execute_result"
    }
   ],
   "source": [
    "len(outlier_data)/len(data) * 100"
   ]
  },
  {
   "cell_type": "markdown",
   "id": "957eb733",
   "metadata": {
    "ExecuteTime": {
     "end_time": "2022-04-18T10:13:13.907210Z",
     "start_time": "2022-04-18T10:13:13.900228Z"
    }
   },
   "source": [
    "<b> 0.996 % of the data lies between 99 to 100 percentiles <b/>"
   ]
  },
  {
   "cell_type": "code",
   "execution_count": 28,
   "id": "09a6a9f0",
   "metadata": {
    "ExecuteTime": {
     "end_time": "2022-04-19T11:06:13.510939Z",
     "start_time": "2022-04-19T11:06:13.054300Z"
    }
   },
   "outputs": [
    {
     "data": {
      "text/plain": [
       "<AxesSubplot:xlabel='class', ylabel='amount'>"
      ]
     },
     "execution_count": 28,
     "metadata": {},
     "output_type": "execute_result"
    },
    {
     "data": {
      "image/png": "[encoded data removed]",
      "text/plain": [
       "<Figure size 576x576 with 1 Axes>"
      ]
     },
     "metadata": {
      "needs_background": "light"
     },
     "output_type": "display_data"
    }
   ],
   "source": [
    "plt.figure(figsize=(8,8))\n",
    "sns.boxplot(x='class',y='amount',data=cleaned_data)"
   ]
  },
  {
   "cell_type": "code",
   "execution_count": 29,
   "id": "c321b2cf",
   "metadata": {
    "ExecuteTime": {
     "end_time": "2022-04-19T11:06:34.321515Z",
     "start_time": "2022-04-19T11:06:31.161971Z"
    }
   },
   "outputs": [
    {
     "name": "stderr",
     "output_type": "stream",
     "text": [
      "C:\\Users\\varsh\\anaconda3\\lib\\site-packages\\seaborn\\distributions.py:2619: FutureWarning: `distplot` is a deprecated function and will be removed in a future version. Please adapt your code to use either `displot` (a figure-level function with similar flexibility) or `histplot` (an axes-level function for histograms).\n",
      "  warnings.warn(msg, FutureWarning)\n",
      "C:\\Users\\varsh\\anaconda3\\lib\\site-packages\\seaborn\\distributions.py:2619: FutureWarning: `distplot` is a deprecated function and will be removed in a future version. Please adapt your code to use either `displot` (a figure-level function with similar flexibility) or `histplot` (an axes-level function for histograms).\n",
      "  warnings.warn(msg, FutureWarning)\n"
     ]
    },
    {
     "data": {
      "image/png": "[encoded data removed]",
      "text/plain": [
       "<Figure size 618.375x576 with 1 Axes>"
      ]
     },
     "metadata": {
      "needs_background": "light"
     },
     "output_type": "display_data"
    }
   ],
   "source": [
    "sns.FacetGrid(cleaned_data,hue='class',height=8).map(sns.distplot,\"amount\").add_legend()\n",
    "plt.show()"
   ]
  },
  {
   "cell_type": "markdown",
   "id": "3ae1d7ad",
   "metadata": {
    "ExecuteTime": {
     "end_time": "2022-04-18T10:24:10.582101Z",
     "start_time": "2022-04-18T10:24:10.568137Z"
    }
   },
   "source": [
    "<b> we can see it's heavily skewed towards right for both classes, however we have less data for class 1 so let's take a chance in keeping the skewed data."
   ]
  },
  {
   "cell_type": "markdown",
   "id": "7cb673a4",
   "metadata": {
    "ExecuteTime": {
     "end_time": "2022-04-18T10:50:16.539145Z",
     "start_time": "2022-04-18T10:50:16.529174Z"
    }
   },
   "source": [
    "Also the pdfs overlap so Amount on it's own is not a good feature to distinguish between the classes."
   ]
  },
  {
   "cell_type": "markdown",
   "id": "20496bed",
   "metadata": {
    "ExecuteTime": {
     "end_time": "2022-04-18T10:52:54.964927Z",
     "start_time": "2022-04-18T10:52:54.951927Z"
    }
   },
   "source": [
    "### Time variable"
   ]
  },
  {
   "cell_type": "code",
   "execution_count": 30,
   "id": "8602f959",
   "metadata": {
    "ExecuteTime": {
     "end_time": "2022-04-19T11:07:08.283343Z",
     "start_time": "2022-04-19T11:07:06.194770Z"
    }
   },
   "outputs": [
    {
     "name": "stderr",
     "output_type": "stream",
     "text": [
      "C:\\Users\\varsh\\anaconda3\\lib\\site-packages\\seaborn\\distributions.py:2619: FutureWarning: `distplot` is a deprecated function and will be removed in a future version. Please adapt your code to use either `displot` (a figure-level function with similar flexibility) or `histplot` (an axes-level function for histograms).\n",
      "  warnings.warn(msg, FutureWarning)\n",
      "C:\\Users\\varsh\\anaconda3\\lib\\site-packages\\seaborn\\distributions.py:2619: FutureWarning: `distplot` is a deprecated function and will be removed in a future version. Please adapt your code to use either `displot` (a figure-level function with similar flexibility) or `histplot` (an axes-level function for histograms).\n",
      "  warnings.warn(msg, FutureWarning)\n"
     ]
    },
    {
     "data": {
      "text/plain": [
       "<seaborn.axisgrid.FacetGrid at 0x12e514eb9d0>"
      ]
     },
     "execution_count": 30,
     "metadata": {},
     "output_type": "execute_result"
    },
    {
     "data": {
      "image/png": "[encoded data removed]",
      "text/plain": [
       "<Figure size 618.375x576 with 1 Axes>"
      ]
     },
     "metadata": {
      "needs_background": "light"
     },
     "output_type": "display_data"
    }
   ],
   "source": [
    "sns.FacetGrid(cleaned_data,hue='class',height=8).map(sns.distplot,'time').add_legend()"
   ]
  },
  {
   "cell_type": "code",
   "execution_count": 31,
   "id": "dbac4522",
   "metadata": {
    "ExecuteTime": {
     "end_time": "2022-04-19T11:07:16.320072Z",
     "start_time": "2022-04-19T11:07:15.994276Z"
    }
   },
   "outputs": [
    {
     "data": {
      "text/plain": [
       "<AxesSubplot:xlabel='class', ylabel='time'>"
      ]
     },
     "execution_count": 31,
     "metadata": {},
     "output_type": "execute_result"
    },
    {
     "data": {
      "image/png": "[encoded data removed]",
      "text/plain": [
       "<Figure size 432x288 with 1 Axes>"
      ]
     },
     "metadata": {
      "needs_background": "light"
     },
     "output_type": "display_data"
    }
   ],
   "source": [
    "sns.boxplot(data=cleaned_data,x='class',y='time')"
   ]
  },
  {
   "cell_type": "markdown",
   "id": "4aeb2bab",
   "metadata": {},
   "source": [
    "Well the Time feature, doesn't tell much except for certain duration, for now we'll leave as it is and see how much value it adds in combination with other features"
   ]
  },
  {
   "cell_type": "markdown",
   "id": "5b21629b",
   "metadata": {
    "ExecuteTime": {
     "end_time": "2022-04-18T11:02:54.725662Z",
     "start_time": "2022-04-18T11:02:54.706713Z"
    }
   },
   "source": [
    "### Let's try some pair plots in group of 3s to have a general view of other features v1 t0 v4"
   ]
  },
  {
   "cell_type": "code",
   "execution_count": 32,
   "id": "c5d1089c",
   "metadata": {
    "ExecuteTime": {
     "end_time": "2022-04-19T11:12:38.030296Z",
     "start_time": "2022-04-19T11:11:00.174068Z"
    }
   },
   "outputs": [
    {
     "data": {
      "text/plain": [
       "<seaborn.axisgrid.PairGrid at 0x12e516a1f10>"
      ]
     },
     "execution_count": 32,
     "metadata": {},
     "output_type": "execute_result"
    },
    {
     "data": {
      "image/png": "[encoded data removed]",
      "text/plain": [
       "<Figure size 582.375x540 with 12 Axes>"
      ]
     },
     "metadata": {
      "needs_background": "light"
     },
     "output_type": "display_data"
    }
   ],
   "source": [
    "sns.pairplot(cleaned_data.loc[:,['v1','v2','v3','class']],hue='class')"
   ]
  },
  {
   "cell_type": "code",
   "execution_count": 33,
   "id": "b8eb25d7",
   "metadata": {
    "ExecuteTime": {
     "end_time": "2022-04-19T11:14:14.778821Z",
     "start_time": "2022-04-19T11:12:38.280945Z"
    },
    "scrolled": true
   },
   "outputs": [
    {
     "data": {
      "text/plain": [
       "<seaborn.axisgrid.PairGrid at 0x12e50d54820>"
      ]
     },
     "execution_count": 33,
     "metadata": {},
     "output_type": "execute_result"
    },
    {
     "data": {
      "image/png": "[encoded data removed]",
      "text/plain": [
       "<Figure size 582.375x540 with 12 Axes>"
      ]
     },
     "metadata": {
      "needs_background": "light"
     },
     "output_type": "display_data"
    }
   ],
   "source": [
    "sns.pairplot(cleaned_data.loc[:,['v4','v5','v6','class']],hue='class')"
   ]
  },
  {
   "cell_type": "markdown",
   "id": "c87e64c3-8ef8-41c6-a78f-1ecedd9562e8",
   "metadata": {},
   "source": [
    "## Train Test split"
   ]
  },
  {
   "cell_type": "code",
   "execution_count": 34,
   "id": "d8e5bddd-00b6-40b4-8444-200b77bda485",
   "metadata": {},
   "outputs": [],
   "source": [
    "X = cleaned_data.drop(columns = ['class'])\n",
    "y = cleaned_data['class']\n",
    "X_train,X_test,y_train,y_test = train_test_split(X,y,test_size = .30,stratify=y)"
   ]
  },
  {
   "cell_type": "code",
   "execution_count": 35,
   "id": "51306e68-6c51-48eb-86d8-fcc37915fe72",
   "metadata": {},
   "outputs": [
    {
     "data": {
      "text/plain": [
       "((196621, 30), (196621,))"
      ]
     },
     "execution_count": 35,
     "metadata": {},
     "output_type": "execute_result"
    }
   ],
   "source": [
    "(X_train.shape,y_train.shape)"
   ]
  },
  {
   "cell_type": "code",
   "execution_count": 36,
   "id": "2a633cbc-d0ad-4c4f-9ea9-13b8bce5e9bb",
   "metadata": {},
   "outputs": [
    {
     "data": {
      "text/plain": [
       "((84267, 30), (84267,))"
      ]
     },
     "execution_count": 36,
     "metadata": {},
     "output_type": "execute_result"
    }
   ],
   "source": [
    "(X_test.shape,y_test.shape)"
   ]
  },
  {
   "cell_type": "code",
   "execution_count": 37,
   "id": "260a68b1-b797-4184-91e5-3da93f733195",
   "metadata": {},
   "outputs": [
    {
     "data": {
      "text/plain": [
       "0    196296\n",
       "1       325\n",
       "Name: class, dtype: int64"
      ]
     },
     "execution_count": 37,
     "metadata": {},
     "output_type": "execute_result"
    }
   ],
   "source": [
    "y_train.value_counts()"
   ]
  },
  {
   "cell_type": "code",
   "execution_count": 38,
   "id": "c1461cc8-1798-4a4e-91ea-94cf624aca85",
   "metadata": {},
   "outputs": [
    {
     "data": {
      "text/plain": [
       "0    84128\n",
       "1      139\n",
       "Name: class, dtype: int64"
      ]
     },
     "execution_count": 38,
     "metadata": {},
     "output_type": "execute_result"
    }
   ],
   "source": [
    "y_test.value_counts()"
   ]
  },
  {
   "cell_type": "code",
   "execution_count": 39,
   "id": "28ef3220-bf20-4646-83e0-be980ffd56c8",
   "metadata": {},
   "outputs": [],
   "source": [
    "std_scale = StandardScaler()\n",
    "X_train_scaled = std_scale.fit_transform(X_train)\n",
    "X_test_scaled = std_scale.transform(X_test)"
   ]
  },
  {
   "cell_type": "code",
   "execution_count": 40,
   "id": "6bce8e9a-4984-469c-b537-b7693466e5d5",
   "metadata": {},
   "outputs": [
    {
     "data": {
      "text/plain": [
       "((196621, 30), (84267, 30))"
      ]
     },
     "execution_count": 40,
     "metadata": {},
     "output_type": "execute_result"
    }
   ],
   "source": [
    "(X_train_scaled.shape,X_test_scaled.shape)"
   ]
  },
  {
   "cell_type": "markdown",
   "id": "0f22da7c-0553-4112-a8f5-40367c6cc00b",
   "metadata": {},
   "source": [
    "## Model building"
   ]
  },
  {
   "cell_type": "markdown",
   "id": "a19674b0-acb6-4e13-830d-af4ad67211ff",
   "metadata": {},
   "source": [
    "### Logistic regression "
   ]
  },
  {
   "cell_type": "code",
   "execution_count": 41,
   "id": "77188d54-55e4-46e5-b0c4-73054c30a5d2",
   "metadata": {},
   "outputs": [],
   "source": [
    "lr = LogisticRegression()\n",
    "lr.fit(X_train_scaled,y_train)\n",
    "lr_pred = lr.predict(X_test_scaled)"
   ]
  },
  {
   "cell_type": "code",
   "execution_count": 42,
   "id": "58424632-cc21-4ec3-8268-4ad9c282e918",
   "metadata": {},
   "outputs": [
    {
     "data": {
      "text/plain": [
       "0.6133333333333333"
      ]
     },
     "execution_count": 42,
     "metadata": {},
     "output_type": "execute_result"
    }
   ],
   "source": [
    "# precision\n",
    "# TP / (TP + FP)\n",
    "46 / (46 + 29)"
   ]
  },
  {
   "cell_type": "code",
   "execution_count": 43,
   "id": "6a046009-8b3b-4707-b820-ee675a9595e4",
   "metadata": {},
   "outputs": [
    {
     "data": {
      "text/plain": [
       "0.4946236559139785"
      ]
     },
     "execution_count": 43,
     "metadata": {},
     "output_type": "execute_result"
    }
   ],
   "source": [
    "# Recall\n",
    "# TP / (TP +FN)\n",
    "46 / (46 + 47)"
   ]
  },
  {
   "cell_type": "code",
   "execution_count": 44,
   "id": "d5a203f0-23ac-4a32-a2be-90f912b893f7",
   "metadata": {},
   "outputs": [
    {
     "data": {
      "text/plain": [
       "0.9986471572501691"
      ]
     },
     "execution_count": 44,
     "metadata": {},
     "output_type": "execute_result"
    }
   ],
   "source": [
    "# accuracy\n",
    "# ( TP + TN ) / (TP + TN + FP + FN)\n",
    "(46 + 56056) / (46 + 56056 + 29 + 47) "
   ]
  },
  {
   "cell_type": "markdown",
   "id": "73db4cb6-c9b0-4ab1-8d14-1f82cac4c5f4",
   "metadata": {},
   "source": [
    "#### Function to plot pr curve and confusion matrix"
   ]
  },
  {
   "cell_type": "code",
   "execution_count": 45,
   "id": "a994e7e7-0218-4589-be2c-ff6adf3bd0a1",
   "metadata": {},
   "outputs": [],
   "source": [
    "def score(X_test,y_test,model):\n",
    "    y_pred = model.predict(X_test)\n",
    "    print(classification_report(y_test,y_pred))\n",
    "    ConfusionMatrixDisplay(confusion_matrix(y_test,y_pred),display_labels=['not fraud','fraud']).plot()\n",
    "    plot_precision_recall_curve(model,X_test,y_test)\n",
    "    "
   ]
  },
  {
   "cell_type": "code",
   "execution_count": 46,
   "id": "a0cbee62-c327-4e99-9495-847e0b65606d",
   "metadata": {},
   "outputs": [
    {
     "name": "stdout",
     "output_type": "stream",
     "text": [
      "              precision    recall  f1-score   support\n",
      "\n",
      "           0       1.00      1.00      1.00     84128\n",
      "           1       0.87      0.71      0.78       139\n",
      "\n",
      "    accuracy                           1.00     84267\n",
      "   macro avg       0.93      0.86      0.89     84267\n",
      "weighted avg       1.00      1.00      1.00     84267\n",
      "\n"
     ]
    },
    {
     "name": "stderr",
     "output_type": "stream",
     "text": [
      "C:\\Users\\varsh\\anaconda3\\lib\\site-packages\\sklearn\\utils\\deprecation.py:87: FutureWarning: Function plot_precision_recall_curve is deprecated; Function `plot_precision_recall_curve` is deprecated in 1.0 and will be removed in 1.2. Use one of the class methods: PrecisionRecallDisplay.from_predictions or PrecisionRecallDisplay.from_estimator.\n",
      "  warnings.warn(msg, category=FutureWarning)\n"
     ]
    },
    {
     "data": {
      "image/png": "[encoded data removed]",
      "text/plain": [
       "<Figure size 432x288 with 2 Axes>"
      ]
     },
     "metadata": {
      "needs_background": "light"
     },
     "output_type": "display_data"
    },
    {
     "data": {
      "image/png": "[encoded data removed]",
      "text/plain": [
       "<Figure size 432x288 with 1 Axes>"
      ]
     },
     "metadata": {
      "needs_background": "light"
     },
     "output_type": "display_data"
    }
   ],
   "source": [
    "score(X_test_scaled,y_test,lr)"
   ]
  },
  {
   "cell_type": "markdown",
   "id": "61aeca81-af29-4805-8b17-2c3431426776",
   "metadata": {},
   "source": [
    "### Finding best threshold"
   ]
  },
  {
   "cell_type": "code",
   "execution_count": 52,
   "id": "901dbb08-cddf-4762-bba9-c78fd7fbf518",
   "metadata": {
    "tags": []
   },
   "outputs": [],
   "source": [
    "def score_threshold(model,X_test,y_test,beta):\n",
    "    \n",
    "    result = {}\n",
    "    \n",
    "    pred_proba = model.predict_proba(X_test)[:,1]\n",
    "    precisions,recalls,thresholds =  precision_recall_curve(y_test,pred_proba)\n",
    "    #f1_scores = 2 * (precisions * recalls) / (precisions + recalls)\n",
    "    f_beta_scores = (1 + beta**2) * (precisions * recalls) / ((beta**2 * precisions) + recalls)\n",
    "    best_f_beta_score = max(f_beta_scores)\n",
    "    ind = np.argmax(f_beta_scores)\n",
    "    best_threshold = thresholds[ind]\n",
    "    precision_t = precisions[ind]\n",
    "    recall_t = recalls[ind]\n",
    "    \n",
    "    result['f_beta_score'] = best_f_beta_score\n",
    "    result['threshold'] = best_threshold\n",
    "    result['precision'] = precision_t\n",
    "    result['recall']  = recall_t\n",
    "    result['beta'] = beta\n",
    "    \n",
    "    return result\n",
    "    "
   ]
  },
  {
   "cell_type": "code",
   "execution_count": 78,
   "id": "a0323420-7182-43b0-b410-5f1e1206c140",
   "metadata": {
    "tags": []
   },
   "outputs": [
    {
     "data": {
      "text/plain": [
       "{'f_beta_score': 0.905292479108635,\n",
       " 'threshold': 0.33,\n",
       " 'precision': 0.9191176470588235,\n",
       " 'recall': 0.8992805755395683,\n",
       " 'beta': 1.5}"
      ]
     },
     "execution_count": 78,
     "metadata": {},
     "output_type": "execute_result"
    }
   ],
   "source": [
    "temp_rf = RandomForestClassifier(n_jobs = -1)\n",
    "temp_rf.fit(X_train_scaled,y_train)\n",
    "score_threshold(temp_rf,X_test_scaled,y_test,1.5)"
   ]
  },
  {
   "cell_type": "code",
   "execution_count": 79,
   "id": "7e6f1af9-29c0-4ad9-b7e4-9cb3827da631",
   "metadata": {},
   "outputs": [
    {
     "data": {
      "text/plain": [
       "{'f_beta_score': 0.9138576779026217,\n",
       " 'threshold': 0.5,\n",
       " 'precision': 0.953125,\n",
       " 'recall': 0.8776978417266187,\n",
       " 'beta': 1}"
      ]
     },
     "execution_count": 79,
     "metadata": {},
     "output_type": "execute_result"
    }
   ],
   "source": [
    "score_threshold(temp_rf,X_test_scaled,y_test,1)"
   ]
  },
  {
   "cell_type": "code",
   "execution_count": 80,
   "id": "57c0493d-5619-4ef1-8755-8f61a638846c",
   "metadata": {},
   "outputs": [
    {
     "data": {
      "text/plain": [
       "{'f_beta_score': 0.9042978557214854,\n",
       " 'threshold': 0.33,\n",
       " 'precision': 0.9191176470588235,\n",
       " 'recall': 0.8992805755395683,\n",
       " 'beta': 1.7}"
      ]
     },
     "execution_count": 80,
     "metadata": {},
     "output_type": "execute_result"
    }
   ],
   "source": [
    "score_threshold(temp_rf,X_test_scaled,y_test,1.7)"
   ]
  },
  {
   "cell_type": "code",
   "execution_count": 81,
   "id": "5a2f011a-c16c-48c1-a241-7bf621416176",
   "metadata": {},
   "outputs": [
    {
     "data": {
      "text/plain": [
       "{'f_beta_score': 0.9031791907514449,\n",
       " 'threshold': 0.33,\n",
       " 'precision': 0.9191176470588235,\n",
       " 'recall': 0.8992805755395683,\n",
       " 'beta': 2}"
      ]
     },
     "execution_count": 81,
     "metadata": {},
     "output_type": "execute_result"
    }
   ],
   "source": [
    "score_threshold(temp_rf,X_test_scaled,y_test,2)"
   ]
  },
  {
   "cell_type": "code",
   "execution_count": 54,
   "id": "33fa0d79-096e-4eee-b790-66c5398da0c8",
   "metadata": {},
   "outputs": [
    {
     "data": {
      "text/plain": [
       "{'f_beta_score': 0.8108108108108107,\n",
       " 'threshold': 0.06837868457352016,\n",
       " 'precision': 0.7643312101910829,\n",
       " 'recall': 0.8633093525179856,\n",
       " 'beta': 1}"
      ]
     },
     "execution_count": 54,
     "metadata": {},
     "output_type": "execute_result"
    }
   ],
   "source": [
    "score_threshold(lr,X_test_scaled,y_test,1)"
   ]
  },
  {
   "cell_type": "code",
   "execution_count": 55,
   "id": "5fd4ce4e-8000-414b-bce7-9834b10a8c20",
   "metadata": {},
   "outputs": [
    {
     "data": {
      "text/plain": [
       "{'f_beta_score': 0.8302288451303885,\n",
       " 'threshold': 0.06837868457352016,\n",
       " 'precision': 0.7643312101910829,\n",
       " 'recall': 0.8633093525179856,\n",
       " 'beta': 1.5}"
      ]
     },
     "execution_count": 55,
     "metadata": {},
     "output_type": "execute_result"
    }
   ],
   "source": [
    "score_threshold(lr,X_test_scaled,y_test,1.5)"
   ]
  },
  {
   "cell_type": "code",
   "execution_count": 56,
   "id": "a64d7602-1163-492b-ba37-022666eff65e",
   "metadata": {},
   "outputs": [
    {
     "data": {
      "text/plain": [
       "{'f_beta_score': 0.8415147265077139,\n",
       " 'threshold': 0.06837868457352016,\n",
       " 'precision': 0.7643312101910829,\n",
       " 'recall': 0.8633093525179856,\n",
       " 'beta': 2}"
      ]
     },
     "execution_count": 56,
     "metadata": {},
     "output_type": "execute_result"
    }
   ],
   "source": [
    "score_threshold(lr,X_test_scaled,y_test,2)"
   ]
  },
  {
   "cell_type": "code",
   "execution_count": 57,
   "id": "3c24e58b-d66b-4b8a-ad56-18bec0259919",
   "metadata": {},
   "outputs": [
    {
     "data": {
      "text/plain": [
       "{'f_beta_score': 0.8376511226252159,\n",
       " 'threshold': 0.5559283579010412,\n",
       " 'precision': 0.8818181818181818,\n",
       " 'recall': 0.697841726618705,\n",
       " 'beta': 0.5}"
      ]
     },
     "execution_count": 57,
     "metadata": {},
     "output_type": "execute_result"
    }
   ],
   "source": [
    "score_threshold(lr,X_test_scaled,y_test,0.5)"
   ]
  },
  {
   "cell_type": "markdown",
   "id": "4f334269-0874-4a64-bd1f-399f500e0500",
   "metadata": {},
   "source": [
    "## Handling imbalance"
   ]
  },
  {
   "cell_type": "raw",
   "id": "290e9ddf-843b-4d71-bd41-8721d6590f7e",
   "metadata": {},
   "source": [
    "1. Class weights\n",
    "2. Under sampling\n",
    "3. Over sampling"
   ]
  },
  {
   "cell_type": "markdown",
   "id": "9741f671-31ef-4492-994e-4b7cf7c5e882",
   "metadata": {},
   "source": [
    "### Using class weights"
   ]
  },
  {
   "cell_type": "markdown",
   "id": "a8104021-d7a1-41c9-8e93-8e8e7b6059f1",
   "metadata": {},
   "source": [
    "#### generating random weights"
   ]
  },
  {
   "cell_type": "code",
   "execution_count": 48,
   "id": "6cd91ef6-dd74-4e25-93d3-a05a40e6023b",
   "metadata": {},
   "outputs": [],
   "source": [
    "x = np.linspace(0,1,15)"
   ]
  },
  {
   "cell_type": "code",
   "execution_count": 48,
   "id": "3febc7f2-580d-48e4-a95e-2224c6d755f8",
   "metadata": {},
   "outputs": [
    {
     "data": {
      "text/plain": [
       "array([0.        , 0.07142857, 0.14285714, 0.21428571, 0.28571429,\n",
       "       0.35714286, 0.42857143, 0.5       , 0.57142857, 0.64285714,\n",
       "       0.71428571, 0.78571429, 0.85714286, 0.92857143, 1.        ])"
      ]
     },
     "execution_count": 48,
     "metadata": {},
     "output_type": "execute_result"
    }
   ],
   "source": [
    "x"
   ]
  },
  {
   "cell_type": "code",
   "execution_count": 49,
   "id": "2439efe3-6812-49a5-b73b-d1a1ddce116b",
   "metadata": {},
   "outputs": [],
   "source": [
    "# X and 1-x -->for ex. 0: 0.07142857142857142, 1: 0.9285714285714286"
   ]
  },
  {
   "cell_type": "code",
   "execution_count": 50,
   "id": "20b0c330-2892-4638-95be-1cc6be52c166",
   "metadata": {},
   "outputs": [],
   "source": [
    "weights = []\n",
    "for i,j in zip(x,1-x):\n",
    "    d1 = {}\n",
    "    d1[0] = i\n",
    "    d1[1] = j\n",
    "    \n",
    "    weights.append(d1)"
   ]
  },
  {
   "cell_type": "code",
   "execution_count": 51,
   "id": "fe7d2fb4-7670-4fb9-b268-836cde1d96c5",
   "metadata": {},
   "outputs": [
    {
     "data": {
      "text/plain": [
       "[{0: 0.0, 1: 1.0},\n",
       " {0: 0.07142857142857142, 1: 0.9285714285714286},\n",
       " {0: 0.14285714285714285, 1: 0.8571428571428572},\n",
       " {0: 0.21428571428571427, 1: 0.7857142857142857},\n",
       " {0: 0.2857142857142857, 1: 0.7142857142857143},\n",
       " {0: 0.3571428571428571, 1: 0.6428571428571429},\n",
       " {0: 0.42857142857142855, 1: 0.5714285714285714},\n",
       " {0: 0.5, 1: 0.5},\n",
       " {0: 0.5714285714285714, 1: 0.4285714285714286},\n",
       " {0: 0.6428571428571428, 1: 0.3571428571428572},\n",
       " {0: 0.7142857142857142, 1: 0.2857142857142858},\n",
       " {0: 0.7857142857142857, 1: 0.2142857142857143},\n",
       " {0: 0.8571428571428571, 1: 0.1428571428571429},\n",
       " {0: 0.9285714285714285, 1: 0.07142857142857151},\n",
       " {0: 1.0, 1: 0.0}]"
      ]
     },
     "execution_count": 51,
     "metadata": {},
     "output_type": "execute_result"
    }
   ],
   "source": [
    "weights"
   ]
  },
  {
   "cell_type": "markdown",
   "id": "04a8dad7-a27a-4e4f-88e3-a4a0ceecfc51",
   "metadata": {},
   "source": [
    "Fβ=(1+β2)⋅precision⋅recall(β2⋅precision)+recall"
   ]
  },
  {
   "cell_type": "markdown",
   "id": "4e2407f6-ce9b-4c92-aa73-b6902050ae2f",
   "metadata": {},
   "source": [
    "### Random forest"
   ]
  },
  {
   "cell_type": "code",
   "execution_count": 67,
   "id": "c123a03c-14e3-45ef-a0ac-2ee9e6ac4ed0",
   "metadata": {},
   "outputs": [
    {
     "name": "stderr",
     "output_type": "stream",
     "text": [
      "100%|██████████| 15/15 [26:15<00:00, 105.05s/it]\n"
     ]
    }
   ],
   "source": [
    "rf_score_weights = []\n",
    "\n",
    "for weight in tqdm(weights):\n",
    "    \n",
    "    rf = RandomForestClassifier(class_weight=weight,n_jobs = -1)\n",
    "    rf.fit(X_train_scaled,y_train)\n",
    "    rf_score_weights.append(score_threshold(rf,X_test_scaled,y_test,1))\n"
   ]
  },
  {
   "cell_type": "code",
   "execution_count": 68,
   "id": "b9b4e162-f642-4bd0-ae41-5c6eddedef5f",
   "metadata": {},
   "outputs": [],
   "source": [
    "score_df = pd.DataFrame(rf_score_weights)"
   ]
  },
  {
   "cell_type": "code",
   "execution_count": 69,
   "id": "27299acc-4af3-4a36-ac3d-290544b2b746",
   "metadata": {},
   "outputs": [
    {
     "data": {
      "text/html": [
       "<div>\n",
       "<style scoped>\n",
       "    .dataframe tbody tr th:only-of-type {\n",
       "        vertical-align: middle;\n",
       "    }\n",
       "\n",
       "    .dataframe tbody tr th {\n",
       "        vertical-align: top;\n",
       "    }\n",
       "\n",
       "    .dataframe thead th {\n",
       "        text-align: right;\n",
       "    }\n",
       "</style>\n",
       "<table border=\"1\" class=\"dataframe\">\n",
       "  <thead>\n",
       "    <tr style=\"text-align: right;\">\n",
       "      <th></th>\n",
       "      <th>f_beta_score</th>\n",
       "      <th>threshold</th>\n",
       "      <th>precision</th>\n",
       "      <th>recall</th>\n",
       "      <th>beta</th>\n",
       "    </tr>\n",
       "  </thead>\n",
       "  <tbody>\n",
       "    <tr>\n",
       "      <th>0</th>\n",
       "      <td>0.003294</td>\n",
       "      <td>1.00</td>\n",
       "      <td>0.001650</td>\n",
       "      <td>1.000000</td>\n",
       "      <td>1</td>\n",
       "    </tr>\n",
       "    <tr>\n",
       "      <th>1</th>\n",
       "      <td>0.915129</td>\n",
       "      <td>0.37</td>\n",
       "      <td>0.939394</td>\n",
       "      <td>0.892086</td>\n",
       "      <td>1</td>\n",
       "    </tr>\n",
       "    <tr>\n",
       "      <th>2</th>\n",
       "      <td>0.917910</td>\n",
       "      <td>0.40</td>\n",
       "      <td>0.953488</td>\n",
       "      <td>0.884892</td>\n",
       "      <td>1</td>\n",
       "    </tr>\n",
       "    <tr>\n",
       "      <th>3</th>\n",
       "      <td>0.917293</td>\n",
       "      <td>0.55</td>\n",
       "      <td>0.960630</td>\n",
       "      <td>0.877698</td>\n",
       "      <td>1</td>\n",
       "    </tr>\n",
       "    <tr>\n",
       "      <th>4</th>\n",
       "      <td>0.915751</td>\n",
       "      <td>0.34</td>\n",
       "      <td>0.932836</td>\n",
       "      <td>0.899281</td>\n",
       "      <td>1</td>\n",
       "    </tr>\n",
       "    <tr>\n",
       "      <th>5</th>\n",
       "      <td>0.917293</td>\n",
       "      <td>0.56</td>\n",
       "      <td>0.960630</td>\n",
       "      <td>0.877698</td>\n",
       "      <td>1</td>\n",
       "    </tr>\n",
       "    <tr>\n",
       "      <th>6</th>\n",
       "      <td>0.913858</td>\n",
       "      <td>0.56</td>\n",
       "      <td>0.953125</td>\n",
       "      <td>0.877698</td>\n",
       "      <td>1</td>\n",
       "    </tr>\n",
       "    <tr>\n",
       "      <th>7</th>\n",
       "      <td>0.917293</td>\n",
       "      <td>0.53</td>\n",
       "      <td>0.960630</td>\n",
       "      <td>0.877698</td>\n",
       "      <td>1</td>\n",
       "    </tr>\n",
       "    <tr>\n",
       "      <th>8</th>\n",
       "      <td>0.918519</td>\n",
       "      <td>0.42</td>\n",
       "      <td>0.946565</td>\n",
       "      <td>0.892086</td>\n",
       "      <td>1</td>\n",
       "    </tr>\n",
       "    <tr>\n",
       "      <th>9</th>\n",
       "      <td>0.911111</td>\n",
       "      <td>0.43</td>\n",
       "      <td>0.938931</td>\n",
       "      <td>0.884892</td>\n",
       "      <td>1</td>\n",
       "    </tr>\n",
       "    <tr>\n",
       "      <th>10</th>\n",
       "      <td>0.921348</td>\n",
       "      <td>0.53</td>\n",
       "      <td>0.960938</td>\n",
       "      <td>0.884892</td>\n",
       "      <td>1</td>\n",
       "    </tr>\n",
       "    <tr>\n",
       "      <th>11</th>\n",
       "      <td>0.918519</td>\n",
       "      <td>0.49</td>\n",
       "      <td>0.946565</td>\n",
       "      <td>0.892086</td>\n",
       "      <td>1</td>\n",
       "    </tr>\n",
       "    <tr>\n",
       "      <th>12</th>\n",
       "      <td>0.914498</td>\n",
       "      <td>0.55</td>\n",
       "      <td>0.946154</td>\n",
       "      <td>0.884892</td>\n",
       "      <td>1</td>\n",
       "    </tr>\n",
       "    <tr>\n",
       "      <th>13</th>\n",
       "      <td>0.917910</td>\n",
       "      <td>0.55</td>\n",
       "      <td>0.953488</td>\n",
       "      <td>0.884892</td>\n",
       "      <td>1</td>\n",
       "    </tr>\n",
       "    <tr>\n",
       "      <th>14</th>\n",
       "      <td>0.003294</td>\n",
       "      <td>0.00</td>\n",
       "      <td>0.001650</td>\n",
       "      <td>1.000000</td>\n",
       "      <td>1</td>\n",
       "    </tr>\n",
       "  </tbody>\n",
       "</table>\n",
       "</div>"
      ],
      "text/plain": [
       "    f_beta_score  threshold  precision    recall  beta\n",
       "0       0.003294       1.00   0.001650  1.000000     1\n",
       "1       0.915129       0.37   0.939394  0.892086     1\n",
       "2       0.917910       0.40   0.953488  0.884892     1\n",
       "3       0.917293       0.55   0.960630  0.877698     1\n",
       "4       0.915751       0.34   0.932836  0.899281     1\n",
       "5       0.917293       0.56   0.960630  0.877698     1\n",
       "6       0.913858       0.56   0.953125  0.877698     1\n",
       "7       0.917293       0.53   0.960630  0.877698     1\n",
       "8       0.918519       0.42   0.946565  0.892086     1\n",
       "9       0.911111       0.43   0.938931  0.884892     1\n",
       "10      0.921348       0.53   0.960938  0.884892     1\n",
       "11      0.918519       0.49   0.946565  0.892086     1\n",
       "12      0.914498       0.55   0.946154  0.884892     1\n",
       "13      0.917910       0.55   0.953488  0.884892     1\n",
       "14      0.003294       0.00   0.001650  1.000000     1"
      ]
     },
     "execution_count": 69,
     "metadata": {},
     "output_type": "execute_result"
    }
   ],
   "source": [
    "score_df"
   ]
  },
  {
   "cell_type": "code",
   "execution_count": 71,
   "id": "0340473e-1b3f-4990-a374-4e80c20ab197",
   "metadata": {},
   "outputs": [
    {
     "data": {
      "text/plain": [
       "0.9213483146067416"
      ]
     },
     "execution_count": 71,
     "metadata": {},
     "output_type": "execute_result"
    }
   ],
   "source": [
    "score_df['f_beta_score'].max()"
   ]
  },
  {
   "cell_type": "markdown",
   "id": "8097fc65-43a5-4b48-a04c-13873713b58e",
   "metadata": {},
   "source": [
    "### Random forest with different betas"
   ]
  },
  {
   "cell_type": "code",
   "execution_count": 60,
   "id": "caf1d0e0-7ed9-4ee0-be92-83f438b09dd7",
   "metadata": {},
   "outputs": [
    {
     "name": "stderr",
     "output_type": "stream",
     "text": [
      "100%|██████████| 15/15 [19:24<00:00, 77.62s/it]\n"
     ]
    }
   ],
   "source": [
    "rf_score_weights_1 = []\n",
    "rf_score_weights_1_5 = []\n",
    "rf_score_weights_1_7 = []\n",
    "\n",
    "for weight in tqdm(weights):\n",
    "    \n",
    "    rf = RandomForestClassifier(class_weight=weight,n_jobs = -1)\n",
    "    rf.fit(X_train_scaled,y_train)\n",
    "    rf_score_weights_1.append(score_threshold(rf,X_test_scaled,y_test,1))\n",
    "    rf_score_weights_1_5.append(score_threshold(rf,X_test_scaled,y_test,1.5))\n",
    "    rf_score_weights_1_7.append(score_threshold(rf,X_test_scaled,y_test,1.7))\n",
    "    \n",
    "    "
   ]
  },
  {
   "cell_type": "code",
   "execution_count": 61,
   "id": "68ba9487-380a-4a9c-89f0-8b39b644ea14",
   "metadata": {},
   "outputs": [],
   "source": [
    "score_df_1 = pd.DataFrame(rf_score_weights_1)\n",
    "score_df_1_5 = pd.DataFrame(rf_score_weights_1_5)\n",
    "score_df_1_7 = pd.DataFrame(rf_score_weights_1_7)"
   ]
  },
  {
   "cell_type": "code",
   "execution_count": 65,
   "id": "35c3f752-b278-4457-bb1e-c91ff5f98812",
   "metadata": {},
   "outputs": [
    {
     "data": {
      "text/html": [
       "<div>\n",
       "<style scoped>\n",
       "    .dataframe tbody tr th:only-of-type {\n",
       "        vertical-align: middle;\n",
       "    }\n",
       "\n",
       "    .dataframe tbody tr th {\n",
       "        vertical-align: top;\n",
       "    }\n",
       "\n",
       "    .dataframe thead th {\n",
       "        text-align: right;\n",
       "    }\n",
       "</style>\n",
       "<table border=\"1\" class=\"dataframe\">\n",
       "  <thead>\n",
       "    <tr style=\"text-align: right;\">\n",
       "      <th></th>\n",
       "      <th>f_beta_score</th>\n",
       "      <th>threshold</th>\n",
       "      <th>precision</th>\n",
       "      <th>recall</th>\n",
       "      <th>beta</th>\n",
       "    </tr>\n",
       "  </thead>\n",
       "  <tbody>\n",
       "    <tr>\n",
       "      <th>0</th>\n",
       "      <td>0.003294</td>\n",
       "      <td>1.00</td>\n",
       "      <td>0.001650</td>\n",
       "      <td>1.000000</td>\n",
       "      <td>1</td>\n",
       "    </tr>\n",
       "    <tr>\n",
       "      <th>1</th>\n",
       "      <td>0.917910</td>\n",
       "      <td>0.45</td>\n",
       "      <td>0.953488</td>\n",
       "      <td>0.884892</td>\n",
       "      <td>1</td>\n",
       "    </tr>\n",
       "    <tr>\n",
       "      <th>2</th>\n",
       "      <td>0.917910</td>\n",
       "      <td>0.40</td>\n",
       "      <td>0.953488</td>\n",
       "      <td>0.884892</td>\n",
       "      <td>1</td>\n",
       "    </tr>\n",
       "    <tr>\n",
       "      <th>3</th>\n",
       "      <td>0.913858</td>\n",
       "      <td>0.49</td>\n",
       "      <td>0.953125</td>\n",
       "      <td>0.877698</td>\n",
       "      <td>1</td>\n",
       "    </tr>\n",
       "    <tr>\n",
       "      <th>4</th>\n",
       "      <td>0.915751</td>\n",
       "      <td>0.31</td>\n",
       "      <td>0.932836</td>\n",
       "      <td>0.899281</td>\n",
       "      <td>1</td>\n",
       "    </tr>\n",
       "    <tr>\n",
       "      <th>5</th>\n",
       "      <td>0.914498</td>\n",
       "      <td>0.41</td>\n",
       "      <td>0.946154</td>\n",
       "      <td>0.884892</td>\n",
       "      <td>1</td>\n",
       "    </tr>\n",
       "    <tr>\n",
       "      <th>6</th>\n",
       "      <td>0.917293</td>\n",
       "      <td>0.58</td>\n",
       "      <td>0.960630</td>\n",
       "      <td>0.877698</td>\n",
       "      <td>1</td>\n",
       "    </tr>\n",
       "    <tr>\n",
       "      <th>7</th>\n",
       "      <td>0.916667</td>\n",
       "      <td>0.61</td>\n",
       "      <td>0.968000</td>\n",
       "      <td>0.870504</td>\n",
       "      <td>1</td>\n",
       "    </tr>\n",
       "    <tr>\n",
       "      <th>8</th>\n",
       "      <td>0.922509</td>\n",
       "      <td>0.41</td>\n",
       "      <td>0.946970</td>\n",
       "      <td>0.899281</td>\n",
       "      <td>1</td>\n",
       "    </tr>\n",
       "    <tr>\n",
       "      <th>9</th>\n",
       "      <td>0.915751</td>\n",
       "      <td>0.41</td>\n",
       "      <td>0.932836</td>\n",
       "      <td>0.899281</td>\n",
       "      <td>1</td>\n",
       "    </tr>\n",
       "    <tr>\n",
       "      <th>10</th>\n",
       "      <td>0.917293</td>\n",
       "      <td>0.61</td>\n",
       "      <td>0.960630</td>\n",
       "      <td>0.877698</td>\n",
       "      <td>1</td>\n",
       "    </tr>\n",
       "    <tr>\n",
       "      <th>11</th>\n",
       "      <td>0.914498</td>\n",
       "      <td>0.49</td>\n",
       "      <td>0.946154</td>\n",
       "      <td>0.884892</td>\n",
       "      <td>1</td>\n",
       "    </tr>\n",
       "    <tr>\n",
       "      <th>12</th>\n",
       "      <td>0.918519</td>\n",
       "      <td>0.51</td>\n",
       "      <td>0.946565</td>\n",
       "      <td>0.892086</td>\n",
       "      <td>1</td>\n",
       "    </tr>\n",
       "    <tr>\n",
       "      <th>13</th>\n",
       "      <td>0.914498</td>\n",
       "      <td>0.51</td>\n",
       "      <td>0.946154</td>\n",
       "      <td>0.884892</td>\n",
       "      <td>1</td>\n",
       "    </tr>\n",
       "    <tr>\n",
       "      <th>14</th>\n",
       "      <td>0.003294</td>\n",
       "      <td>0.00</td>\n",
       "      <td>0.001650</td>\n",
       "      <td>1.000000</td>\n",
       "      <td>1</td>\n",
       "    </tr>\n",
       "  </tbody>\n",
       "</table>\n",
       "</div>"
      ],
      "text/plain": [
       "    f_beta_score  threshold  precision    recall  beta\n",
       "0       0.003294       1.00   0.001650  1.000000     1\n",
       "1       0.917910       0.45   0.953488  0.884892     1\n",
       "2       0.917910       0.40   0.953488  0.884892     1\n",
       "3       0.913858       0.49   0.953125  0.877698     1\n",
       "4       0.915751       0.31   0.932836  0.899281     1\n",
       "5       0.914498       0.41   0.946154  0.884892     1\n",
       "6       0.917293       0.58   0.960630  0.877698     1\n",
       "7       0.916667       0.61   0.968000  0.870504     1\n",
       "8       0.922509       0.41   0.946970  0.899281     1\n",
       "9       0.915751       0.41   0.932836  0.899281     1\n",
       "10      0.917293       0.61   0.960630  0.877698     1\n",
       "11      0.914498       0.49   0.946154  0.884892     1\n",
       "12      0.918519       0.51   0.946565  0.892086     1\n",
       "13      0.914498       0.51   0.946154  0.884892     1\n",
       "14      0.003294       0.00   0.001650  1.000000     1"
      ]
     },
     "execution_count": 65,
     "metadata": {},
     "output_type": "execute_result"
    }
   ],
   "source": [
    "score_df_1"
   ]
  },
  {
   "cell_type": "code",
   "execution_count": 72,
   "id": "cb0aa188-1bbb-41a3-94ec-813c9d536416",
   "metadata": {},
   "outputs": [
    {
     "data": {
      "text/plain": [
       "0.9225092250922509"
      ]
     },
     "execution_count": 72,
     "metadata": {},
     "output_type": "execute_result"
    }
   ],
   "source": [
    "score_df_1['f_beta_score'].max()"
   ]
  },
  {
   "cell_type": "code",
   "execution_count": 63,
   "id": "8dd10472-eeef-4cd6-ba5e-6261b9a54251",
   "metadata": {},
   "outputs": [
    {
     "data": {
      "text/html": [
       "<div>\n",
       "<style scoped>\n",
       "    .dataframe tbody tr th:only-of-type {\n",
       "        vertical-align: middle;\n",
       "    }\n",
       "\n",
       "    .dataframe tbody tr th {\n",
       "        vertical-align: top;\n",
       "    }\n",
       "\n",
       "    .dataframe thead th {\n",
       "        text-align: right;\n",
       "    }\n",
       "</style>\n",
       "<table border=\"1\" class=\"dataframe\">\n",
       "  <thead>\n",
       "    <tr style=\"text-align: right;\">\n",
       "      <th></th>\n",
       "      <th>f_beta_score</th>\n",
       "      <th>threshold</th>\n",
       "      <th>precision</th>\n",
       "      <th>recall</th>\n",
       "      <th>beta</th>\n",
       "    </tr>\n",
       "  </thead>\n",
       "  <tbody>\n",
       "    <tr>\n",
       "      <th>0</th>\n",
       "      <td>0.005341</td>\n",
       "      <td>1.00</td>\n",
       "      <td>0.001650</td>\n",
       "      <td>1.000000</td>\n",
       "      <td>1.5</td>\n",
       "    </tr>\n",
       "    <tr>\n",
       "      <th>1</th>\n",
       "      <td>0.909345</td>\n",
       "      <td>0.31</td>\n",
       "      <td>0.932836</td>\n",
       "      <td>0.899281</td>\n",
       "      <td>1.5</td>\n",
       "    </tr>\n",
       "    <tr>\n",
       "      <th>2</th>\n",
       "      <td>0.909345</td>\n",
       "      <td>0.30</td>\n",
       "      <td>0.932836</td>\n",
       "      <td>0.899281</td>\n",
       "      <td>1.5</td>\n",
       "    </tr>\n",
       "    <tr>\n",
       "      <th>3</th>\n",
       "      <td>0.901276</td>\n",
       "      <td>0.24</td>\n",
       "      <td>0.905797</td>\n",
       "      <td>0.899281</td>\n",
       "      <td>1.5</td>\n",
       "    </tr>\n",
       "    <tr>\n",
       "      <th>4</th>\n",
       "      <td>0.909345</td>\n",
       "      <td>0.31</td>\n",
       "      <td>0.932836</td>\n",
       "      <td>0.899281</td>\n",
       "      <td>1.5</td>\n",
       "    </tr>\n",
       "    <tr>\n",
       "      <th>5</th>\n",
       "      <td>0.907314</td>\n",
       "      <td>0.36</td>\n",
       "      <td>0.925926</td>\n",
       "      <td>0.899281</td>\n",
       "      <td>1.5</td>\n",
       "    </tr>\n",
       "    <tr>\n",
       "      <th>6</th>\n",
       "      <td>0.909345</td>\n",
       "      <td>0.36</td>\n",
       "      <td>0.932836</td>\n",
       "      <td>0.899281</td>\n",
       "      <td>1.5</td>\n",
       "    </tr>\n",
       "    <tr>\n",
       "      <th>7</th>\n",
       "      <td>0.909345</td>\n",
       "      <td>0.41</td>\n",
       "      <td>0.932836</td>\n",
       "      <td>0.899281</td>\n",
       "      <td>1.5</td>\n",
       "    </tr>\n",
       "    <tr>\n",
       "      <th>8</th>\n",
       "      <td>0.913435</td>\n",
       "      <td>0.41</td>\n",
       "      <td>0.946970</td>\n",
       "      <td>0.899281</td>\n",
       "      <td>1.5</td>\n",
       "    </tr>\n",
       "    <tr>\n",
       "      <th>9</th>\n",
       "      <td>0.909345</td>\n",
       "      <td>0.41</td>\n",
       "      <td>0.932836</td>\n",
       "      <td>0.899281</td>\n",
       "      <td>1.5</td>\n",
       "    </tr>\n",
       "    <tr>\n",
       "      <th>10</th>\n",
       "      <td>0.904094</td>\n",
       "      <td>0.41</td>\n",
       "      <td>0.932331</td>\n",
       "      <td>0.892086</td>\n",
       "      <td>1.5</td>\n",
       "    </tr>\n",
       "    <tr>\n",
       "      <th>11</th>\n",
       "      <td>0.904094</td>\n",
       "      <td>0.41</td>\n",
       "      <td>0.932331</td>\n",
       "      <td>0.892086</td>\n",
       "      <td>1.5</td>\n",
       "    </tr>\n",
       "    <tr>\n",
       "      <th>12</th>\n",
       "      <td>0.908169</td>\n",
       "      <td>0.51</td>\n",
       "      <td>0.946565</td>\n",
       "      <td>0.892086</td>\n",
       "      <td>1.5</td>\n",
       "    </tr>\n",
       "    <tr>\n",
       "      <th>13</th>\n",
       "      <td>0.904094</td>\n",
       "      <td>0.47</td>\n",
       "      <td>0.932331</td>\n",
       "      <td>0.892086</td>\n",
       "      <td>1.5</td>\n",
       "    </tr>\n",
       "    <tr>\n",
       "      <th>14</th>\n",
       "      <td>0.005341</td>\n",
       "      <td>0.00</td>\n",
       "      <td>0.001650</td>\n",
       "      <td>1.000000</td>\n",
       "      <td>1.5</td>\n",
       "    </tr>\n",
       "  </tbody>\n",
       "</table>\n",
       "</div>"
      ],
      "text/plain": [
       "    f_beta_score  threshold  precision    recall  beta\n",
       "0       0.005341       1.00   0.001650  1.000000   1.5\n",
       "1       0.909345       0.31   0.932836  0.899281   1.5\n",
       "2       0.909345       0.30   0.932836  0.899281   1.5\n",
       "3       0.901276       0.24   0.905797  0.899281   1.5\n",
       "4       0.909345       0.31   0.932836  0.899281   1.5\n",
       "5       0.907314       0.36   0.925926  0.899281   1.5\n",
       "6       0.909345       0.36   0.932836  0.899281   1.5\n",
       "7       0.909345       0.41   0.932836  0.899281   1.5\n",
       "8       0.913435       0.41   0.946970  0.899281   1.5\n",
       "9       0.909345       0.41   0.932836  0.899281   1.5\n",
       "10      0.904094       0.41   0.932331  0.892086   1.5\n",
       "11      0.904094       0.41   0.932331  0.892086   1.5\n",
       "12      0.908169       0.51   0.946565  0.892086   1.5\n",
       "13      0.904094       0.47   0.932331  0.892086   1.5\n",
       "14      0.005341       0.00   0.001650  1.000000   1.5"
      ]
     },
     "execution_count": 63,
     "metadata": {},
     "output_type": "execute_result"
    }
   ],
   "source": [
    "score_df_1_5"
   ]
  },
  {
   "cell_type": "code",
   "execution_count": 73,
   "id": "6e8112d4-39d3-48e1-9824-6f80fcb0f5e3",
   "metadata": {},
   "outputs": [
    {
     "data": {
      "text/plain": [
       "0.913434513771782"
      ]
     },
     "execution_count": 73,
     "metadata": {},
     "output_type": "execute_result"
    }
   ],
   "source": [
    "score_df_1_5['f_beta_score'].max()"
   ]
  },
  {
   "cell_type": "code",
   "execution_count": 64,
   "id": "5eaa9c5c-0747-4efc-9e21-9bc6d4b12412",
   "metadata": {},
   "outputs": [
    {
     "data": {
      "text/html": [
       "<div>\n",
       "<style scoped>\n",
       "    .dataframe tbody tr th:only-of-type {\n",
       "        vertical-align: middle;\n",
       "    }\n",
       "\n",
       "    .dataframe tbody tr th {\n",
       "        vertical-align: top;\n",
       "    }\n",
       "\n",
       "    .dataframe thead th {\n",
       "        text-align: right;\n",
       "    }\n",
       "</style>\n",
       "<table border=\"1\" class=\"dataframe\">\n",
       "  <thead>\n",
       "    <tr style=\"text-align: right;\">\n",
       "      <th></th>\n",
       "      <th>f_beta_score</th>\n",
       "      <th>threshold</th>\n",
       "      <th>precision</th>\n",
       "      <th>recall</th>\n",
       "      <th>beta</th>\n",
       "    </tr>\n",
       "  </thead>\n",
       "  <tbody>\n",
       "    <tr>\n",
       "      <th>0</th>\n",
       "      <td>0.006386</td>\n",
       "      <td>1.00</td>\n",
       "      <td>0.001650</td>\n",
       "      <td>1.000000</td>\n",
       "      <td>1.7</td>\n",
       "    </tr>\n",
       "    <tr>\n",
       "      <th>1</th>\n",
       "      <td>0.907674</td>\n",
       "      <td>0.31</td>\n",
       "      <td>0.932836</td>\n",
       "      <td>0.899281</td>\n",
       "      <td>1.7</td>\n",
       "    </tr>\n",
       "    <tr>\n",
       "      <th>2</th>\n",
       "      <td>0.907674</td>\n",
       "      <td>0.30</td>\n",
       "      <td>0.932836</td>\n",
       "      <td>0.899281</td>\n",
       "      <td>1.7</td>\n",
       "    </tr>\n",
       "    <tr>\n",
       "      <th>3</th>\n",
       "      <td>0.900947</td>\n",
       "      <td>0.24</td>\n",
       "      <td>0.905797</td>\n",
       "      <td>0.899281</td>\n",
       "      <td>1.7</td>\n",
       "    </tr>\n",
       "    <tr>\n",
       "      <th>4</th>\n",
       "      <td>0.907674</td>\n",
       "      <td>0.31</td>\n",
       "      <td>0.932836</td>\n",
       "      <td>0.899281</td>\n",
       "      <td>1.7</td>\n",
       "    </tr>\n",
       "    <tr>\n",
       "      <th>5</th>\n",
       "      <td>0.905983</td>\n",
       "      <td>0.36</td>\n",
       "      <td>0.925926</td>\n",
       "      <td>0.899281</td>\n",
       "      <td>1.7</td>\n",
       "    </tr>\n",
       "    <tr>\n",
       "      <th>6</th>\n",
       "      <td>0.907674</td>\n",
       "      <td>0.36</td>\n",
       "      <td>0.932836</td>\n",
       "      <td>0.899281</td>\n",
       "      <td>1.7</td>\n",
       "    </tr>\n",
       "    <tr>\n",
       "      <th>7</th>\n",
       "      <td>0.907674</td>\n",
       "      <td>0.41</td>\n",
       "      <td>0.932836</td>\n",
       "      <td>0.899281</td>\n",
       "      <td>1.7</td>\n",
       "    </tr>\n",
       "    <tr>\n",
       "      <th>8</th>\n",
       "      <td>0.911075</td>\n",
       "      <td>0.41</td>\n",
       "      <td>0.946970</td>\n",
       "      <td>0.899281</td>\n",
       "      <td>1.7</td>\n",
       "    </tr>\n",
       "    <tr>\n",
       "      <th>9</th>\n",
       "      <td>0.907674</td>\n",
       "      <td>0.41</td>\n",
       "      <td>0.932836</td>\n",
       "      <td>0.899281</td>\n",
       "      <td>1.7</td>\n",
       "    </tr>\n",
       "    <tr>\n",
       "      <th>10</th>\n",
       "      <td>0.902096</td>\n",
       "      <td>0.41</td>\n",
       "      <td>0.932331</td>\n",
       "      <td>0.892086</td>\n",
       "      <td>1.7</td>\n",
       "    </tr>\n",
       "    <tr>\n",
       "      <th>11</th>\n",
       "      <td>0.902096</td>\n",
       "      <td>0.41</td>\n",
       "      <td>0.932331</td>\n",
       "      <td>0.892086</td>\n",
       "      <td>1.7</td>\n",
       "    </tr>\n",
       "    <tr>\n",
       "      <th>12</th>\n",
       "      <td>0.905483</td>\n",
       "      <td>0.51</td>\n",
       "      <td>0.946565</td>\n",
       "      <td>0.892086</td>\n",
       "      <td>1.7</td>\n",
       "    </tr>\n",
       "    <tr>\n",
       "      <th>13</th>\n",
       "      <td>0.902096</td>\n",
       "      <td>0.47</td>\n",
       "      <td>0.932331</td>\n",
       "      <td>0.892086</td>\n",
       "      <td>1.7</td>\n",
       "    </tr>\n",
       "    <tr>\n",
       "      <th>14</th>\n",
       "      <td>0.006386</td>\n",
       "      <td>0.00</td>\n",
       "      <td>0.001650</td>\n",
       "      <td>1.000000</td>\n",
       "      <td>1.7</td>\n",
       "    </tr>\n",
       "  </tbody>\n",
       "</table>\n",
       "</div>"
      ],
      "text/plain": [
       "    f_beta_score  threshold  precision    recall  beta\n",
       "0       0.006386       1.00   0.001650  1.000000   1.7\n",
       "1       0.907674       0.31   0.932836  0.899281   1.7\n",
       "2       0.907674       0.30   0.932836  0.899281   1.7\n",
       "3       0.900947       0.24   0.905797  0.899281   1.7\n",
       "4       0.907674       0.31   0.932836  0.899281   1.7\n",
       "5       0.905983       0.36   0.925926  0.899281   1.7\n",
       "6       0.907674       0.36   0.932836  0.899281   1.7\n",
       "7       0.907674       0.41   0.932836  0.899281   1.7\n",
       "8       0.911075       0.41   0.946970  0.899281   1.7\n",
       "9       0.907674       0.41   0.932836  0.899281   1.7\n",
       "10      0.902096       0.41   0.932331  0.892086   1.7\n",
       "11      0.902096       0.41   0.932331  0.892086   1.7\n",
       "12      0.905483       0.51   0.946565  0.892086   1.7\n",
       "13      0.902096       0.47   0.932331  0.892086   1.7\n",
       "14      0.006386       0.00   0.001650  1.000000   1.7"
      ]
     },
     "execution_count": 64,
     "metadata": {},
     "output_type": "execute_result"
    }
   ],
   "source": [
    "score_df_1_7"
   ]
  },
  {
   "cell_type": "code",
   "execution_count": 86,
   "id": "7b70d0aa-6d48-47d2-bc96-7898956dc2bf",
   "metadata": {},
   "outputs": [
    {
     "data": {
      "text/plain": [
       "0.9110753030672089"
      ]
     },
     "execution_count": 86,
     "metadata": {},
     "output_type": "execute_result"
    }
   ],
   "source": [
    "score_df_1_7['f_beta_score'].max()"
   ]
  },
  {
   "cell_type": "code",
   "execution_count": 83,
   "id": "8156675f-46d1-4f52-bc4a-8138fe9b9514",
   "metadata": {
    "tags": []
   },
   "outputs": [
    {
     "data": {
      "text/plain": [
       "[{0: 0.0, 1: 1.0},\n",
       " {0: 0.07142857142857142, 1: 0.9285714285714286},\n",
       " {0: 0.14285714285714285, 1: 0.8571428571428572},\n",
       " {0: 0.21428571428571427, 1: 0.7857142857142857},\n",
       " {0: 0.2857142857142857, 1: 0.7142857142857143},\n",
       " {0: 0.3571428571428571, 1: 0.6428571428571429},\n",
       " {0: 0.42857142857142855, 1: 0.5714285714285714},\n",
       " {0: 0.5, 1: 0.5},\n",
       " {0: 0.5714285714285714, 1: 0.4285714285714286},\n",
       " {0: 0.6428571428571428, 1: 0.3571428571428572},\n",
       " {0: 0.7142857142857142, 1: 0.2857142857142858},\n",
       " {0: 0.7857142857142857, 1: 0.2142857142857143},\n",
       " {0: 0.8571428571428571, 1: 0.1428571428571429},\n",
       " {0: 0.9285714285714285, 1: 0.07142857142857151},\n",
       " {0: 1.0, 1: 0.0}]"
      ]
     },
     "execution_count": 83,
     "metadata": {},
     "output_type": "execute_result"
    }
   ],
   "source": [
    "weights"
   ]
  },
  {
   "cell_type": "code",
   "execution_count": 97,
   "id": "bd546f2b-48a6-4ff0-8ad0-61c9d65f97d6",
   "metadata": {},
   "outputs": [
    {
     "data": {
      "text/plain": [
       "{0: 0.5714285714285714, 1: 0.4285714285714286}"
      ]
     },
     "execution_count": 97,
     "metadata": {},
     "output_type": "execute_result"
    }
   ],
   "source": [
    "weights[score_df_1_7[ score_df_1_7['f_beta_score'] == score_df_1_7['f_beta_score'].max()].index[0]]"
   ]
  },
  {
   "cell_type": "markdown",
   "id": "e67b5463-17fd-4e25-8788-bea183fd0b2b",
   "metadata": {},
   "source": [
    "#### Conclusion: 0.911075\t0.41\t0.946970\t0.899281\t1.7\n",
    "     "
   ]
  },
  {
   "cell_type": "code",
   "execution_count": null,
   "id": "2572783c-f665-4a2d-b57d-9224ee72bfc4",
   "metadata": {},
   "outputs": [],
   "source": [
    "#!pip install imblearn"
   ]
  },
  {
   "cell_type": "markdown",
   "id": "f825d34a-e28a-4c0b-9c5d-e949cf5ebb3c",
   "metadata": {},
   "source": [
    "## Under Sampling"
   ]
  },
  {
   "cell_type": "markdown",
   "id": "4e00018e-2b27-4540-ac59-12746eccb14d",
   "metadata": {},
   "source": [
    "### Manual approach "
   ]
  },
  {
   "cell_type": "code",
   "execution_count": 106,
   "id": "646dddf2-6928-43df-84f4-cc4053a934a0",
   "metadata": {},
   "outputs": [],
   "source": [
    "train_temp_data = pd.DataFrame(X_train_scaled)"
   ]
  },
  {
   "cell_type": "code",
   "execution_count": 114,
   "id": "981b97e9-2da4-4d64-9735-8abc95201c9f",
   "metadata": {},
   "outputs": [],
   "source": [
    "train_temp_data['y_train'] = y_train.reset_index(drop = True)"
   ]
  },
  {
   "cell_type": "code",
   "execution_count": 115,
   "id": "831bc152-9f56-42c3-837a-d0ea183919da",
   "metadata": {},
   "outputs": [
    {
     "data": {
      "text/html": [
       "<div>\n",
       "<style scoped>\n",
       "    .dataframe tbody tr th:only-of-type {\n",
       "        vertical-align: middle;\n",
       "    }\n",
       "\n",
       "    .dataframe tbody tr th {\n",
       "        vertical-align: top;\n",
       "    }\n",
       "\n",
       "    .dataframe thead th {\n",
       "        text-align: right;\n",
       "    }\n",
       "</style>\n",
       "<table border=\"1\" class=\"dataframe\">\n",
       "  <thead>\n",
       "    <tr style=\"text-align: right;\">\n",
       "      <th></th>\n",
       "      <th>0</th>\n",
       "      <th>1</th>\n",
       "      <th>2</th>\n",
       "      <th>3</th>\n",
       "      <th>4</th>\n",
       "      <th>5</th>\n",
       "      <th>6</th>\n",
       "      <th>7</th>\n",
       "      <th>8</th>\n",
       "      <th>9</th>\n",
       "      <th>...</th>\n",
       "      <th>21</th>\n",
       "      <th>22</th>\n",
       "      <th>23</th>\n",
       "      <th>24</th>\n",
       "      <th>25</th>\n",
       "      <th>26</th>\n",
       "      <th>27</th>\n",
       "      <th>28</th>\n",
       "      <th>29</th>\n",
       "      <th>y_train</th>\n",
       "    </tr>\n",
       "  </thead>\n",
       "  <tbody>\n",
       "    <tr>\n",
       "      <th>0</th>\n",
       "      <td>-1.099131</td>\n",
       "      <td>0.597299</td>\n",
       "      <td>0.147431</td>\n",
       "      <td>0.176301</td>\n",
       "      <td>0.688319</td>\n",
       "      <td>-0.047941</td>\n",
       "      <td>-0.120278</td>\n",
       "      <td>0.067650</td>\n",
       "      <td>0.038297</td>\n",
       "      <td>-0.257057</td>\n",
       "      <td>...</td>\n",
       "      <td>0.158813</td>\n",
       "      <td>0.485946</td>\n",
       "      <td>-0.177036</td>\n",
       "      <td>0.049706</td>\n",
       "      <td>1.136436</td>\n",
       "      <td>-0.656216</td>\n",
       "      <td>0.065762</td>\n",
       "      <td>0.022456</td>\n",
       "      <td>-0.517390</td>\n",
       "      <td>0</td>\n",
       "    </tr>\n",
       "    <tr>\n",
       "      <th>1</th>\n",
       "      <td>1.376903</td>\n",
       "      <td>0.902650</td>\n",
       "      <td>-0.191438</td>\n",
       "      <td>-1.684947</td>\n",
       "      <td>0.760182</td>\n",
       "      <td>0.801645</td>\n",
       "      <td>-0.296435</td>\n",
       "      <td>0.928772</td>\n",
       "      <td>-0.288149</td>\n",
       "      <td>-0.443192</td>\n",
       "      <td>...</td>\n",
       "      <td>0.436160</td>\n",
       "      <td>0.746857</td>\n",
       "      <td>-0.500235</td>\n",
       "      <td>0.401724</td>\n",
       "      <td>1.046201</td>\n",
       "      <td>-0.945300</td>\n",
       "      <td>-0.207057</td>\n",
       "      <td>-0.148229</td>\n",
       "      <td>0.841794</td>\n",
       "      <td>0</td>\n",
       "    </tr>\n",
       "    <tr>\n",
       "      <th>2</th>\n",
       "      <td>-1.184028</td>\n",
       "      <td>0.704923</td>\n",
       "      <td>-0.544886</td>\n",
       "      <td>-0.001216</td>\n",
       "      <td>-1.078940</td>\n",
       "      <td>-0.656440</td>\n",
       "      <td>-0.374940</td>\n",
       "      <td>-0.300993</td>\n",
       "      <td>-0.215338</td>\n",
       "      <td>0.305879</td>\n",
       "      <td>...</td>\n",
       "      <td>-0.867855</td>\n",
       "      <td>-1.464667</td>\n",
       "      <td>-0.193985</td>\n",
       "      <td>-0.753497</td>\n",
       "      <td>1.300907</td>\n",
       "      <td>-1.569020</td>\n",
       "      <td>0.237209</td>\n",
       "      <td>0.104240</td>\n",
       "      <td>-0.192225</td>\n",
       "      <td>0</td>\n",
       "    </tr>\n",
       "    <tr>\n",
       "      <th>3</th>\n",
       "      <td>1.012102</td>\n",
       "      <td>-0.163251</td>\n",
       "      <td>0.688914</td>\n",
       "      <td>0.965671</td>\n",
       "      <td>1.936303</td>\n",
       "      <td>0.389590</td>\n",
       "      <td>0.902994</td>\n",
       "      <td>0.104275</td>\n",
       "      <td>0.323483</td>\n",
       "      <td>-0.968221</td>\n",
       "      <td>...</td>\n",
       "      <td>0.466412</td>\n",
       "      <td>1.142438</td>\n",
       "      <td>0.001115</td>\n",
       "      <td>1.112593</td>\n",
       "      <td>-0.972302</td>\n",
       "      <td>-0.247208</td>\n",
       "      <td>-0.584886</td>\n",
       "      <td>0.077509</td>\n",
       "      <td>-0.490183</td>\n",
       "      <td>0</td>\n",
       "    </tr>\n",
       "    <tr>\n",
       "      <th>4</th>\n",
       "      <td>-0.505882</td>\n",
       "      <td>0.812273</td>\n",
       "      <td>-0.735349</td>\n",
       "      <td>-0.033560</td>\n",
       "      <td>-1.213063</td>\n",
       "      <td>-0.761474</td>\n",
       "      <td>-0.015882</td>\n",
       "      <td>-0.937325</td>\n",
       "      <td>-0.037819</td>\n",
       "      <td>-1.872797</td>\n",
       "      <td>...</td>\n",
       "      <td>-0.331657</td>\n",
       "      <td>-0.446271</td>\n",
       "      <td>-0.256268</td>\n",
       "      <td>-1.420694</td>\n",
       "      <td>1.003587</td>\n",
       "      <td>-0.313603</td>\n",
       "      <td>0.063511</td>\n",
       "      <td>-0.003696</td>\n",
       "      <td>-0.455768</td>\n",
       "      <td>0</td>\n",
       "    </tr>\n",
       "  </tbody>\n",
       "</table>\n",
       "<p>5 rows × 31 columns</p>\n",
       "</div>"
      ],
      "text/plain": [
       "          0         1         2         3         4         5         6  \\\n",
       "0 -1.099131  0.597299  0.147431  0.176301  0.688319 -0.047941 -0.120278   \n",
       "1  1.376903  0.902650 -0.191438 -1.684947  0.760182  0.801645 -0.296435   \n",
       "2 -1.184028  0.704923 -0.544886 -0.001216 -1.078940 -0.656440 -0.374940   \n",
       "3  1.012102 -0.163251  0.688914  0.965671  1.936303  0.389590  0.902994   \n",
       "4 -0.505882  0.812273 -0.735349 -0.033560 -1.213063 -0.761474 -0.015882   \n",
       "\n",
       "          7         8         9  ...        21        22        23        24  \\\n",
       "0  0.067650  0.038297 -0.257057  ...  0.158813  0.485946 -0.177036  0.049706   \n",
       "1  0.928772 -0.288149 -0.443192  ...  0.436160  0.746857 -0.500235  0.401724   \n",
       "2 -0.300993 -0.215338  0.305879  ... -0.867855 -1.464667 -0.193985 -0.753497   \n",
       "3  0.104275  0.323483 -0.968221  ...  0.466412  1.142438  0.001115  1.112593   \n",
       "4 -0.937325 -0.037819 -1.872797  ... -0.331657 -0.446271 -0.256268 -1.420694   \n",
       "\n",
       "         25        26        27        28        29  y_train  \n",
       "0  1.136436 -0.656216  0.065762  0.022456 -0.517390        0  \n",
       "1  1.046201 -0.945300 -0.207057 -0.148229  0.841794        0  \n",
       "2  1.300907 -1.569020  0.237209  0.104240 -0.192225        0  \n",
       "3 -0.972302 -0.247208 -0.584886  0.077509 -0.490183        0  \n",
       "4  1.003587 -0.313603  0.063511 -0.003696 -0.455768        0  \n",
       "\n",
       "[5 rows x 31 columns]"
      ]
     },
     "execution_count": 115,
     "metadata": {},
     "output_type": "execute_result"
    }
   ],
   "source": [
    "train_temp_data.head()"
   ]
  },
  {
   "cell_type": "code",
   "execution_count": 120,
   "id": "c8c6fbf1-bc71-45e0-a339-24dc10e77477",
   "metadata": {
    "tags": []
   },
   "outputs": [],
   "source": [
    "train_temp_data_0 = train_temp_data[train_temp_data['y_train'] == 0].sample(n = 325)"
   ]
  },
  {
   "cell_type": "code",
   "execution_count": 122,
   "id": "0d8548ac-722f-4478-b1ee-0597ca6389b4",
   "metadata": {
    "tags": []
   },
   "outputs": [],
   "source": [
    "train_temp_data_1 = train_temp_data[train_temp_data['y_train'] == 1]"
   ]
  },
  {
   "cell_type": "code",
   "execution_count": 124,
   "id": "55e23f9a-a779-4dbf-902a-8032937d01de",
   "metadata": {},
   "outputs": [],
   "source": [
    "frames = [train_temp_data_0, train_temp_data_1]\n",
    "under_sampling_temp_data = pd.concat(frames)"
   ]
  },
  {
   "cell_type": "code",
   "execution_count": 125,
   "id": "fb2aa9f2-e3a1-4bd2-aabe-dbede7ff7392",
   "metadata": {},
   "outputs": [
    {
     "data": {
      "text/html": [
       "<div>\n",
       "<style scoped>\n",
       "    .dataframe tbody tr th:only-of-type {\n",
       "        vertical-align: middle;\n",
       "    }\n",
       "\n",
       "    .dataframe tbody tr th {\n",
       "        vertical-align: top;\n",
       "    }\n",
       "\n",
       "    .dataframe thead th {\n",
       "        text-align: right;\n",
       "    }\n",
       "</style>\n",
       "<table border=\"1\" class=\"dataframe\">\n",
       "  <thead>\n",
       "    <tr style=\"text-align: right;\">\n",
       "      <th></th>\n",
       "      <th>0</th>\n",
       "      <th>1</th>\n",
       "      <th>2</th>\n",
       "      <th>3</th>\n",
       "      <th>4</th>\n",
       "      <th>5</th>\n",
       "      <th>6</th>\n",
       "      <th>7</th>\n",
       "      <th>8</th>\n",
       "      <th>9</th>\n",
       "      <th>...</th>\n",
       "      <th>21</th>\n",
       "      <th>22</th>\n",
       "      <th>23</th>\n",
       "      <th>24</th>\n",
       "      <th>25</th>\n",
       "      <th>26</th>\n",
       "      <th>27</th>\n",
       "      <th>28</th>\n",
       "      <th>29</th>\n",
       "      <th>y_train</th>\n",
       "    </tr>\n",
       "  </thead>\n",
       "  <tbody>\n",
       "    <tr>\n",
       "      <th>139048</th>\n",
       "      <td>-0.350967</td>\n",
       "      <td>-1.445180</td>\n",
       "      <td>1.615617</td>\n",
       "      <td>-0.521763</td>\n",
       "      <td>0.229384</td>\n",
       "      <td>0.031812</td>\n",
       "      <td>0.286054</td>\n",
       "      <td>-0.118454</td>\n",
       "      <td>0.547919</td>\n",
       "      <td>0.376496</td>\n",
       "      <td>...</td>\n",
       "      <td>0.295487</td>\n",
       "      <td>0.285885</td>\n",
       "      <td>-0.276626</td>\n",
       "      <td>-2.223981</td>\n",
       "      <td>-0.138408</td>\n",
       "      <td>-0.646956</td>\n",
       "      <td>-2.564602</td>\n",
       "      <td>0.727361</td>\n",
       "      <td>-0.494214</td>\n",
       "      <td>0</td>\n",
       "    </tr>\n",
       "    <tr>\n",
       "      <th>102585</th>\n",
       "      <td>-0.833307</td>\n",
       "      <td>0.605497</td>\n",
       "      <td>0.160211</td>\n",
       "      <td>0.174177</td>\n",
       "      <td>0.779409</td>\n",
       "      <td>-0.096024</td>\n",
       "      <td>-0.339160</td>\n",
       "      <td>0.168899</td>\n",
       "      <td>-0.112906</td>\n",
       "      <td>-0.060543</td>\n",
       "      <td>...</td>\n",
       "      <td>0.263305</td>\n",
       "      <td>0.851734</td>\n",
       "      <td>-0.318388</td>\n",
       "      <td>0.197937</td>\n",
       "      <td>1.371215</td>\n",
       "      <td>-0.398976</td>\n",
       "      <td>0.084276</td>\n",
       "      <td>0.064990</td>\n",
       "      <td>-0.409260</td>\n",
       "      <td>0</td>\n",
       "    </tr>\n",
       "  </tbody>\n",
       "</table>\n",
       "<p>2 rows × 31 columns</p>\n",
       "</div>"
      ],
      "text/plain": [
       "               0         1         2         3         4         5         6  \\\n",
       "139048 -0.350967 -1.445180  1.615617 -0.521763  0.229384  0.031812  0.286054   \n",
       "102585 -0.833307  0.605497  0.160211  0.174177  0.779409 -0.096024 -0.339160   \n",
       "\n",
       "               7         8         9  ...        21        22        23  \\\n",
       "139048 -0.118454  0.547919  0.376496  ...  0.295487  0.285885 -0.276626   \n",
       "102585  0.168899 -0.112906 -0.060543  ...  0.263305  0.851734 -0.318388   \n",
       "\n",
       "              24        25        26        27        28        29  y_train  \n",
       "139048 -2.223981 -0.138408 -0.646956 -2.564602  0.727361 -0.494214        0  \n",
       "102585  0.197937  1.371215 -0.398976  0.084276  0.064990 -0.409260        0  \n",
       "\n",
       "[2 rows x 31 columns]"
      ]
     },
     "execution_count": 125,
     "metadata": {},
     "output_type": "execute_result"
    }
   ],
   "source": [
    "under_sampling_temp_data.head(2)"
   ]
  },
  {
   "cell_type": "code",
   "execution_count": 131,
   "id": "aa31e920-06b1-4b98-bb22-6d6aff925fe1",
   "metadata": {},
   "outputs": [],
   "source": [
    "X_train_scaled = under_sampling_temp_data.drop(columns = ['y_train'])"
   ]
  },
  {
   "cell_type": "code",
   "execution_count": 132,
   "id": "fd4f916e-939c-4a54-95d7-020e71da72f9",
   "metadata": {},
   "outputs": [],
   "source": [
    "y_train = under_sampling_temp_data['y_train']"
   ]
  },
  {
   "cell_type": "code",
   "execution_count": 133,
   "id": "1cc280a8-bba0-45f8-b4a3-556bd086ee1e",
   "metadata": {},
   "outputs": [
    {
     "data": {
      "text/html": [
       "<style>#sk-container-id-2 {color: black;background-color: white;}#sk-container-id-2 pre{padding: 0;}#sk-container-id-2 div.sk-toggleable {background-color: white;}#sk-container-id-2 label.sk-toggleable__label {cursor: pointer;display: block;width: 100%;margin-bottom: 0;padding: 0.3em;box-sizing: border-box;text-align: center;}#sk-container-id-2 label.sk-toggleable__label-arrow:before {content: \"▸\";float: left;margin-right: 0.25em;color: #696969;}#sk-container-id-2 label.sk-toggleable__label-arrow:hover:before {color: black;}#sk-container-id-2 div.sk-estimator:hover label.sk-toggleable__label-arrow:before {color: black;}#sk-container-id-2 div.sk-toggleable__content {max-height: 0;max-width: 0;overflow: hidden;text-align: left;background-color: #f0f8ff;}#sk-container-id-2 div.sk-toggleable__content pre {margin: 0.2em;color: black;border-radius: 0.25em;background-color: #f0f8ff;}#sk-container-id-2 input.sk-toggleable__control:checked~div.sk-toggleable__content {max-height: 200px;max-width: 100%;overflow: auto;}#sk-container-id-2 input.sk-toggleable__control:checked~label.sk-toggleable__label-arrow:before {content: \"▾\";}#sk-container-id-2 div.sk-estimator input.sk-toggleable__control:checked~label.sk-toggleable__label {background-color: #d4ebff;}#sk-container-id-2 div.sk-label input.sk-toggleable__control:checked~label.sk-toggleable__label {background-color: #d4ebff;}#sk-container-id-2 input.sk-hidden--visually {border: 0;clip: rect(1px 1px 1px 1px);clip: rect(1px, 1px, 1px, 1px);height: 1px;margin: -1px;overflow: hidden;padding: 0;position: absolute;width: 1px;}#sk-container-id-2 div.sk-estimator {font-family: monospace;background-color: #f0f8ff;border: 1px dotted black;border-radius: 0.25em;box-sizing: border-box;margin-bottom: 0.5em;}#sk-container-id-2 div.sk-estimator:hover {background-color: #d4ebff;}#sk-container-id-2 div.sk-parallel-item::after {content: \"\";width: 100%;border-bottom: 1px solid gray;flex-grow: 1;}#sk-container-id-2 div.sk-label:hover label.sk-toggleable__label {background-color: #d4ebff;}#sk-container-id-2 div.sk-serial::before {content: \"\";position: absolute;border-left: 1px solid gray;box-sizing: border-box;top: 0;bottom: 0;left: 50%;z-index: 0;}#sk-container-id-2 div.sk-serial {display: flex;flex-direction: column;align-items: center;background-color: white;padding-right: 0.2em;padding-left: 0.2em;position: relative;}#sk-container-id-2 div.sk-item {position: relative;z-index: 1;}#sk-container-id-2 div.sk-parallel {display: flex;align-items: stretch;justify-content: center;background-color: white;position: relative;}#sk-container-id-2 div.sk-item::before, #sk-container-id-2 div.sk-parallel-item::before {content: \"\";position: absolute;border-left: 1px solid gray;box-sizing: border-box;top: 0;bottom: 0;left: 50%;z-index: -1;}#sk-container-id-2 div.sk-parallel-item {display: flex;flex-direction: column;z-index: 1;position: relative;background-color: white;}#sk-container-id-2 div.sk-parallel-item:first-child::after {align-self: flex-end;width: 50%;}#sk-container-id-2 div.sk-parallel-item:last-child::after {align-self: flex-start;width: 50%;}#sk-container-id-2 div.sk-parallel-item:only-child::after {width: 0;}#sk-container-id-2 div.sk-dashed-wrapped {border: 1px dashed gray;margin: 0 0.4em 0.5em 0.4em;box-sizing: border-box;padding-bottom: 0.4em;background-color: white;}#sk-container-id-2 div.sk-label label {font-family: monospace;font-weight: bold;display: inline-block;line-height: 1.2em;}#sk-container-id-2 div.sk-label-container {text-align: center;}#sk-container-id-2 div.sk-container {/* jupyter's `normalize.less` sets `[hidden] { display: none; }` but bootstrap.min.css set `[hidden] { display: none !important; }` so we also need the `!important` here to be able to override the default hidden behavior on the sphinx rendered scikit-learn.org. See: https://github.com/scikit-learn/scikit-learn/issues/21755 */display: inline-block !important;position: relative;}#sk-container-id-2 div.sk-text-repr-fallback {display: none;}</style><div id=\"sk-container-id-2\" class=\"sk-top-container\"><div class=\"sk-text-repr-fallback\"><pre>RandomForestClassifier()</pre><b>In a Jupyter environment, please rerun this cell to show the HTML representation or trust the notebook. <br />On GitHub, the HTML representation is unable to render, please try loading this page with nbviewer.org.</b></div><div class=\"sk-container\" hidden><div class=\"sk-item\"><div class=\"sk-estimator sk-toggleable\"><input class=\"sk-toggleable__control sk-hidden--visually\" id=\"sk-estimator-id-2\" type=\"checkbox\" checked><label for=\"sk-estimator-id-2\" class=\"sk-toggleable__label sk-toggleable__label-arrow\">RandomForestClassifier</label><div class=\"sk-toggleable__content\"><pre>RandomForestClassifier()</pre></div></div></div></div></div>"
      ],
      "text/plain": [
       "RandomForestClassifier()"
      ]
     },
     "execution_count": 133,
     "metadata": {},
     "output_type": "execute_result"
    }
   ],
   "source": [
    "rf_under = RandomForestClassifier()\n",
    "rf_under.fit(X_train_scaled,y_train)"
   ]
  },
  {
   "cell_type": "code",
   "execution_count": 134,
   "id": "ab3949f8-dac9-42cd-8b1f-2b46bead4542",
   "metadata": {},
   "outputs": [
    {
     "data": {
      "text/plain": [
       "{'f_beta_score': 0.8368794326241136,\n",
       " 'threshold': 0.95,\n",
       " 'precision': 0.8251748251748252,\n",
       " 'recall': 0.8489208633093526,\n",
       " 'beta': 1}"
      ]
     },
     "execution_count": 134,
     "metadata": {},
     "output_type": "execute_result"
    }
   ],
   "source": [
    "score_threshold(rf_under,X_test_scaled,y_test,1)"
   ]
  },
  {
   "cell_type": "code",
   "execution_count": 135,
   "id": "512c83e0-aae8-475a-af37-19114671be62",
   "metadata": {},
   "outputs": [
    {
     "data": {
      "text/plain": [
       "{'f_beta_score': 0.841470104223807,\n",
       " 'threshold': 0.95,\n",
       " 'precision': 0.8251748251748252,\n",
       " 'recall': 0.8489208633093526,\n",
       " 'beta': 1.5}"
      ]
     },
     "execution_count": 135,
     "metadata": {},
     "output_type": "execute_result"
    }
   ],
   "source": [
    "score_threshold(rf_under,X_test_scaled,y_test,1.5)"
   ]
  },
  {
   "cell_type": "code",
   "execution_count": 136,
   "id": "bdef219c-6df7-4f5a-940c-e2bf86cd30de",
   "metadata": {},
   "outputs": [
    {
     "data": {
      "text/plain": [
       "{'f_beta_score': 0.8430405808094491,\n",
       " 'threshold': 0.94,\n",
       " 'precision': 0.7894736842105263,\n",
       " 'recall': 0.8633093525179856,\n",
       " 'beta': 1.7}"
      ]
     },
     "execution_count": 136,
     "metadata": {},
     "output_type": "execute_result"
    }
   ],
   "source": [
    "score_threshold(rf_under,X_test_scaled,y_test,1.7)"
   ]
  },
  {
   "cell_type": "markdown",
   "id": "4aefe128-85f8-4d4c-b6b7-ad5a40759e69",
   "metadata": {},
   "source": [
    "### Using RandomUnderSampler from imblearn"
   ]
  },
  {
   "cell_type": "code",
   "execution_count": 138,
   "id": "1c261320-fa0c-4887-8ff0-cf72ba86f81c",
   "metadata": {},
   "outputs": [],
   "source": [
    "rus = RandomUnderSampler(random_state=42)\n",
    "X_res, y_res = rus.fit_resample(train_temp_data.drop(columns = ['y_train']),train_temp_data['y_train'])"
   ]
  },
  {
   "cell_type": "code",
   "execution_count": 139,
   "id": "12c94383-f10e-48bc-bf2d-75c25097c353",
   "metadata": {},
   "outputs": [
    {
     "data": {
      "text/plain": [
       "(650, 30)"
      ]
     },
     "execution_count": 139,
     "metadata": {},
     "output_type": "execute_result"
    }
   ],
   "source": [
    "X_res.shape"
   ]
  },
  {
   "cell_type": "code",
   "execution_count": 140,
   "id": "b10e3405-cbae-4267-8943-84e010acc987",
   "metadata": {},
   "outputs": [
    {
     "data": {
      "text/plain": [
       "(650,)"
      ]
     },
     "execution_count": 140,
     "metadata": {},
     "output_type": "execute_result"
    }
   ],
   "source": [
    "y_res.shape"
   ]
  },
  {
   "cell_type": "code",
   "execution_count": 141,
   "id": "9ba96cc2-b1af-4e16-a770-7a5743865812",
   "metadata": {},
   "outputs": [
    {
     "data": {
      "text/html": [
       "<style>#sk-container-id-3 {color: black;background-color: white;}#sk-container-id-3 pre{padding: 0;}#sk-container-id-3 div.sk-toggleable {background-color: white;}#sk-container-id-3 label.sk-toggleable__label {cursor: pointer;display: block;width: 100%;margin-bottom: 0;padding: 0.3em;box-sizing: border-box;text-align: center;}#sk-container-id-3 label.sk-toggleable__label-arrow:before {content: \"▸\";float: left;margin-right: 0.25em;color: #696969;}#sk-container-id-3 label.sk-toggleable__label-arrow:hover:before {color: black;}#sk-container-id-3 div.sk-estimator:hover label.sk-toggleable__label-arrow:before {color: black;}#sk-container-id-3 div.sk-toggleable__content {max-height: 0;max-width: 0;overflow: hidden;text-align: left;background-color: #f0f8ff;}#sk-container-id-3 div.sk-toggleable__content pre {margin: 0.2em;color: black;border-radius: 0.25em;background-color: #f0f8ff;}#sk-container-id-3 input.sk-toggleable__control:checked~div.sk-toggleable__content {max-height: 200px;max-width: 100%;overflow: auto;}#sk-container-id-3 input.sk-toggleable__control:checked~label.sk-toggleable__label-arrow:before {content: \"▾\";}#sk-container-id-3 div.sk-estimator input.sk-toggleable__control:checked~label.sk-toggleable__label {background-color: #d4ebff;}#sk-container-id-3 div.sk-label input.sk-toggleable__control:checked~label.sk-toggleable__label {background-color: #d4ebff;}#sk-container-id-3 input.sk-hidden--visually {border: 0;clip: rect(1px 1px 1px 1px);clip: rect(1px, 1px, 1px, 1px);height: 1px;margin: -1px;overflow: hidden;padding: 0;position: absolute;width: 1px;}#sk-container-id-3 div.sk-estimator {font-family: monospace;background-color: #f0f8ff;border: 1px dotted black;border-radius: 0.25em;box-sizing: border-box;margin-bottom: 0.5em;}#sk-container-id-3 div.sk-estimator:hover {background-color: #d4ebff;}#sk-container-id-3 div.sk-parallel-item::after {content: \"\";width: 100%;border-bottom: 1px solid gray;flex-grow: 1;}#sk-container-id-3 div.sk-label:hover label.sk-toggleable__label {background-color: #d4ebff;}#sk-container-id-3 div.sk-serial::before {content: \"\";position: absolute;border-left: 1px solid gray;box-sizing: border-box;top: 0;bottom: 0;left: 50%;z-index: 0;}#sk-container-id-3 div.sk-serial {display: flex;flex-direction: column;align-items: center;background-color: white;padding-right: 0.2em;padding-left: 0.2em;position: relative;}#sk-container-id-3 div.sk-item {position: relative;z-index: 1;}#sk-container-id-3 div.sk-parallel {display: flex;align-items: stretch;justify-content: center;background-color: white;position: relative;}#sk-container-id-3 div.sk-item::before, #sk-container-id-3 div.sk-parallel-item::before {content: \"\";position: absolute;border-left: 1px solid gray;box-sizing: border-box;top: 0;bottom: 0;left: 50%;z-index: -1;}#sk-container-id-3 div.sk-parallel-item {display: flex;flex-direction: column;z-index: 1;position: relative;background-color: white;}#sk-container-id-3 div.sk-parallel-item:first-child::after {align-self: flex-end;width: 50%;}#sk-container-id-3 div.sk-parallel-item:last-child::after {align-self: flex-start;width: 50%;}#sk-container-id-3 div.sk-parallel-item:only-child::after {width: 0;}#sk-container-id-3 div.sk-dashed-wrapped {border: 1px dashed gray;margin: 0 0.4em 0.5em 0.4em;box-sizing: border-box;padding-bottom: 0.4em;background-color: white;}#sk-container-id-3 div.sk-label label {font-family: monospace;font-weight: bold;display: inline-block;line-height: 1.2em;}#sk-container-id-3 div.sk-label-container {text-align: center;}#sk-container-id-3 div.sk-container {/* jupyter's `normalize.less` sets `[hidden] { display: none; }` but bootstrap.min.css set `[hidden] { display: none !important; }` so we also need the `!important` here to be able to override the default hidden behavior on the sphinx rendered scikit-learn.org. See: https://github.com/scikit-learn/scikit-learn/issues/21755 */display: inline-block !important;position: relative;}#sk-container-id-3 div.sk-text-repr-fallback {display: none;}</style><div id=\"sk-container-id-3\" class=\"sk-top-container\"><div class=\"sk-text-repr-fallback\"><pre>RandomForestClassifier()</pre><b>In a Jupyter environment, please rerun this cell to show the HTML representation or trust the notebook. <br />On GitHub, the HTML representation is unable to render, please try loading this page with nbviewer.org.</b></div><div class=\"sk-container\" hidden><div class=\"sk-item\"><div class=\"sk-estimator sk-toggleable\"><input class=\"sk-toggleable__control sk-hidden--visually\" id=\"sk-estimator-id-3\" type=\"checkbox\" checked><label for=\"sk-estimator-id-3\" class=\"sk-toggleable__label sk-toggleable__label-arrow\">RandomForestClassifier</label><div class=\"sk-toggleable__content\"><pre>RandomForestClassifier()</pre></div></div></div></div></div>"
      ],
      "text/plain": [
       "RandomForestClassifier()"
      ]
     },
     "execution_count": 141,
     "metadata": {},
     "output_type": "execute_result"
    }
   ],
   "source": [
    "rf_under_imb = RandomForestClassifier()\n",
    "rf_under_imb.fit(X_res,y_res)"
   ]
  },
  {
   "cell_type": "code",
   "execution_count": 142,
   "id": "5df6d564-391f-4a5c-b46f-63f8108ef86e",
   "metadata": {},
   "outputs": [
    {
     "data": {
      "text/plain": [
       "{'f_beta_score': 0.8368794326241136,\n",
       " 'threshold': 0.95,\n",
       " 'precision': 0.8251748251748252,\n",
       " 'recall': 0.8489208633093526,\n",
       " 'beta': 1}"
      ]
     },
     "execution_count": 142,
     "metadata": {},
     "output_type": "execute_result"
    }
   ],
   "source": [
    "score_threshold(rf_under,X_test_scaled,y_test,1)"
   ]
  },
  {
   "cell_type": "code",
   "execution_count": 143,
   "id": "133b3ee9-42ad-4840-8efd-3946377fb14b",
   "metadata": {},
   "outputs": [
    {
     "data": {
      "text/plain": [
       "{'f_beta_score': 0.841470104223807,\n",
       " 'threshold': 0.95,\n",
       " 'precision': 0.8251748251748252,\n",
       " 'recall': 0.8489208633093526,\n",
       " 'beta': 1.5}"
      ]
     },
     "execution_count": 143,
     "metadata": {},
     "output_type": "execute_result"
    }
   ],
   "source": [
    "score_threshold(rf_under,X_test_scaled,y_test,1.5)"
   ]
  },
  {
   "cell_type": "code",
   "execution_count": 144,
   "id": "76b88d5a-3bc3-455e-b4cc-f055ef36afb2",
   "metadata": {},
   "outputs": [
    {
     "data": {
      "text/plain": [
       "{'f_beta_score': 0.8430405808094491,\n",
       " 'threshold': 0.94,\n",
       " 'precision': 0.7894736842105263,\n",
       " 'recall': 0.8633093525179856,\n",
       " 'beta': 1.7}"
      ]
     },
     "execution_count": 144,
     "metadata": {},
     "output_type": "execute_result"
    }
   ],
   "source": [
    "score_threshold(rf_under,X_test_scaled,y_test,1.7)"
   ]
  },
  {
   "cell_type": "markdown",
   "id": "db02d86f-c173-48cc-be3e-8a9af67c44e5",
   "metadata": {},
   "source": [
    "#### Conclusion:"
   ]
  },
  {
   "cell_type": "markdown",
   "id": "f98e8889-1117-402b-97c1-d0101578a8dc",
   "metadata": {},
   "source": [
    "## Over sampling -- SMOTE"
   ]
  },
  {
   "cell_type": "code",
   "execution_count": 146,
   "id": "ed158fda-26f8-4f48-b0de-861a63b169c8",
   "metadata": {},
   "outputs": [],
   "source": [
    "sm_over = SMOTE(random_state=42)\n",
    "X_res_over, y_res_over = sm_over.fit_resample(train_temp_data.drop(columns = ['y_train']),train_temp_data['y_train'])"
   ]
  },
  {
   "cell_type": "code",
   "execution_count": 147,
   "id": "bbff7cab-d628-4cd6-8209-627ded901341",
   "metadata": {},
   "outputs": [
    {
     "data": {
      "text/plain": [
       "(392592, 30)"
      ]
     },
     "execution_count": 147,
     "metadata": {},
     "output_type": "execute_result"
    }
   ],
   "source": [
    "X_res_over.shape"
   ]
  },
  {
   "cell_type": "code",
   "execution_count": 148,
   "id": "ece77f2e-b7f8-4ac4-9684-2065475d6251",
   "metadata": {},
   "outputs": [
    {
     "data": {
      "text/plain": [
       "(392592,)"
      ]
     },
     "execution_count": 148,
     "metadata": {},
     "output_type": "execute_result"
    }
   ],
   "source": [
    "y_res_over.shape"
   ]
  },
  {
   "cell_type": "code",
   "execution_count": 149,
   "id": "55e7e9f6-0942-4571-bb07-cdd5480a0bf2",
   "metadata": {},
   "outputs": [
    {
     "data": {
      "text/html": [
       "<style>#sk-container-id-4 {color: black;background-color: white;}#sk-container-id-4 pre{padding: 0;}#sk-container-id-4 div.sk-toggleable {background-color: white;}#sk-container-id-4 label.sk-toggleable__label {cursor: pointer;display: block;width: 100%;margin-bottom: 0;padding: 0.3em;box-sizing: border-box;text-align: center;}#sk-container-id-4 label.sk-toggleable__label-arrow:before {content: \"▸\";float: left;margin-right: 0.25em;color: #696969;}#sk-container-id-4 label.sk-toggleable__label-arrow:hover:before {color: black;}#sk-container-id-4 div.sk-estimator:hover label.sk-toggleable__label-arrow:before {color: black;}#sk-container-id-4 div.sk-toggleable__content {max-height: 0;max-width: 0;overflow: hidden;text-align: left;background-color: #f0f8ff;}#sk-container-id-4 div.sk-toggleable__content pre {margin: 0.2em;color: black;border-radius: 0.25em;background-color: #f0f8ff;}#sk-container-id-4 input.sk-toggleable__control:checked~div.sk-toggleable__content {max-height: 200px;max-width: 100%;overflow: auto;}#sk-container-id-4 input.sk-toggleable__control:checked~label.sk-toggleable__label-arrow:before {content: \"▾\";}#sk-container-id-4 div.sk-estimator input.sk-toggleable__control:checked~label.sk-toggleable__label {background-color: #d4ebff;}#sk-container-id-4 div.sk-label input.sk-toggleable__control:checked~label.sk-toggleable__label {background-color: #d4ebff;}#sk-container-id-4 input.sk-hidden--visually {border: 0;clip: rect(1px 1px 1px 1px);clip: rect(1px, 1px, 1px, 1px);height: 1px;margin: -1px;overflow: hidden;padding: 0;position: absolute;width: 1px;}#sk-container-id-4 div.sk-estimator {font-family: monospace;background-color: #f0f8ff;border: 1px dotted black;border-radius: 0.25em;box-sizing: border-box;margin-bottom: 0.5em;}#sk-container-id-4 div.sk-estimator:hover {background-color: #d4ebff;}#sk-container-id-4 div.sk-parallel-item::after {content: \"\";width: 100%;border-bottom: 1px solid gray;flex-grow: 1;}#sk-container-id-4 div.sk-label:hover label.sk-toggleable__label {background-color: #d4ebff;}#sk-container-id-4 div.sk-serial::before {content: \"\";position: absolute;border-left: 1px solid gray;box-sizing: border-box;top: 0;bottom: 0;left: 50%;z-index: 0;}#sk-container-id-4 div.sk-serial {display: flex;flex-direction: column;align-items: center;background-color: white;padding-right: 0.2em;padding-left: 0.2em;position: relative;}#sk-container-id-4 div.sk-item {position: relative;z-index: 1;}#sk-container-id-4 div.sk-parallel {display: flex;align-items: stretch;justify-content: center;background-color: white;position: relative;}#sk-container-id-4 div.sk-item::before, #sk-container-id-4 div.sk-parallel-item::before {content: \"\";position: absolute;border-left: 1px solid gray;box-sizing: border-box;top: 0;bottom: 0;left: 50%;z-index: -1;}#sk-container-id-4 div.sk-parallel-item {display: flex;flex-direction: column;z-index: 1;position: relative;background-color: white;}#sk-container-id-4 div.sk-parallel-item:first-child::after {align-self: flex-end;width: 50%;}#sk-container-id-4 div.sk-parallel-item:last-child::after {align-self: flex-start;width: 50%;}#sk-container-id-4 div.sk-parallel-item:only-child::after {width: 0;}#sk-container-id-4 div.sk-dashed-wrapped {border: 1px dashed gray;margin: 0 0.4em 0.5em 0.4em;box-sizing: border-box;padding-bottom: 0.4em;background-color: white;}#sk-container-id-4 div.sk-label label {font-family: monospace;font-weight: bold;display: inline-block;line-height: 1.2em;}#sk-container-id-4 div.sk-label-container {text-align: center;}#sk-container-id-4 div.sk-container {/* jupyter's `normalize.less` sets `[hidden] { display: none; }` but bootstrap.min.css set `[hidden] { display: none !important; }` so we also need the `!important` here to be able to override the default hidden behavior on the sphinx rendered scikit-learn.org. See: https://github.com/scikit-learn/scikit-learn/issues/21755 */display: inline-block !important;position: relative;}#sk-container-id-4 div.sk-text-repr-fallback {display: none;}</style><div id=\"sk-container-id-4\" class=\"sk-top-container\"><div class=\"sk-text-repr-fallback\"><pre>RandomForestClassifier()</pre><b>In a Jupyter environment, please rerun this cell to show the HTML representation or trust the notebook. <br />On GitHub, the HTML representation is unable to render, please try loading this page with nbviewer.org.</b></div><div class=\"sk-container\" hidden><div class=\"sk-item\"><div class=\"sk-estimator sk-toggleable\"><input class=\"sk-toggleable__control sk-hidden--visually\" id=\"sk-estimator-id-4\" type=\"checkbox\" checked><label for=\"sk-estimator-id-4\" class=\"sk-toggleable__label sk-toggleable__label-arrow\">RandomForestClassifier</label><div class=\"sk-toggleable__content\"><pre>RandomForestClassifier()</pre></div></div></div></div></div>"
      ],
      "text/plain": [
       "RandomForestClassifier()"
      ]
     },
     "execution_count": 149,
     "metadata": {},
     "output_type": "execute_result"
    }
   ],
   "source": [
    "rf_over_imb = RandomForestClassifier()\n",
    "rf_over_imb.fit(X_res_over,y_res_over)"
   ]
  },
  {
   "cell_type": "code",
   "execution_count": 150,
   "id": "fec2f045-a9bb-4788-8af2-6d24249c1282",
   "metadata": {},
   "outputs": [
    {
     "data": {
      "text/plain": [
       "{'f_beta_score': 0.9138576779026217,\n",
       " 'threshold': 0.68,\n",
       " 'precision': 0.953125,\n",
       " 'recall': 0.8776978417266187,\n",
       " 'beta': 1}"
      ]
     },
     "execution_count": 150,
     "metadata": {},
     "output_type": "execute_result"
    }
   ],
   "source": [
    "score_threshold(rf_over_imb,X_test_scaled,y_test,1)"
   ]
  },
  {
   "cell_type": "code",
   "execution_count": 151,
   "id": "697559ed-5702-4f8d-aeeb-b4ced37ac827",
   "metadata": {},
   "outputs": [
    {
     "data": {
      "text/plain": [
       "{'f_beta_score': 0.8996029495178672,\n",
       " 'threshold': 0.68,\n",
       " 'precision': 0.953125,\n",
       " 'recall': 0.8776978417266187,\n",
       " 'beta': 1.5}"
      ]
     },
     "execution_count": 151,
     "metadata": {},
     "output_type": "execute_result"
    }
   ],
   "source": [
    "score_threshold(rf_over_imb,X_test_scaled,y_test,1.5)"
   ]
  },
  {
   "cell_type": "code",
   "execution_count": 152,
   "id": "a0ebcfb9-a426-462a-8c1e-34137bb48413",
   "metadata": {},
   "outputs": [
    {
     "data": {
      "text/plain": [
       "{'f_beta_score': 0.8959241849313775,\n",
       " 'threshold': 0.68,\n",
       " 'precision': 0.953125,\n",
       " 'recall': 0.8776978417266187,\n",
       " 'beta': 1.7}"
      ]
     },
     "execution_count": 152,
     "metadata": {},
     "output_type": "execute_result"
    }
   ],
   "source": [
    "score_threshold(rf_over_imb,X_test_scaled,y_test,1.7)"
   ]
  },
  {
   "cell_type": "markdown",
   "id": "84ac5ac0-b4a3-4e66-b86c-093a5abda40f",
   "metadata": {},
   "source": [
    "#### Conclusion:"
   ]
  },
  {
   "cell_type": "markdown",
   "id": "55b2da27-610d-4d22-8070-70f051299dcc",
   "metadata": {},
   "source": [
    "## Final conclusion:"
   ]
  },
  {
   "cell_type": "code",
   "execution_count": null,
   "id": "77e7a6d1-92b0-4ae2-a5a0-54c7b6ef97b4",
   "metadata": {},
   "outputs": [],
   "source": []
  }
 ],
 "metadata": {
  "kernelspec": {
   "display_name": "Python 3",
   "language": "python",
   "name": "python3"
  },
  "language_info": {
   "codemirror_mode": {
    "name": "ipython",
    "version": 3
   },
   "file_extension": ".py",
   "mimetype": "text/x-python",
   "name": "python",
   "nbconvert_exporter": "python",
   "pygments_lexer": "ipython3",
   "version": "3.9.12"
  },
  "toc": {
   "base_numbering": 1,
   "nav_menu": {},
   "number_sections": true,
   "sideBar": true,
   "skip_h1_title": false,
   "title_cell": "Table of Contents",
   "title_sidebar": "Contents",
   "toc_cell": false,
   "toc_position": {},
   "toc_section_display": true,
   "toc_window_display": true
  },
  "varInspector": {
   "cols": {
    "lenName": 16,
    "lenType": 16,
    "lenVar": 40
   },
   "kernels_config": {
    "python": {
     "delete_cmd_postfix": "",
     "delete_cmd_prefix": "del ",
     "library": "var_list.py",
     "varRefreshCmd": "print(var_dic_list())"
    },
    "r": {
     "delete_cmd_postfix": ") ",
     "delete_cmd_prefix": "rm(",
     "library": "var_list.r",
     "varRefreshCmd": "cat(var_dic_list()) "
    }
   },
   "types_to_exclude": [
    "module",
    "function",
    "builtin_function_or_method",
    "instance",
    "_Feature"
   ],
   "window_display": false
  }
 },
 "nbformat": 4,
 "nbformat_minor": 5
}
